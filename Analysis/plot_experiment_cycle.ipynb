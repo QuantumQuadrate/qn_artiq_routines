{
 "cells": [
  {
   "cell_type": "code",
   "execution_count": 3,
   "id": "9584c1b1-4442-4327-a7ae-ffb7d623aeed",
   "metadata": {},
   "outputs": [],
   "source": [
    "from matplotlib import pyplot as plt\n",
    "import matplotlib as mpl\n",
    "import csv\n",
    "import numpy as np\n",
    "import os,sys\n",
    "import PIL # for reading tif images\n",
    "import h5py\n",
    "import datetime as dt\n",
    "import time\n",
    "from skimage.filters import threshold_otsu\n",
    "\n",
    "results = \"C:\\\\Networking Experiment\\\\artiq codes\\\\artiq-master\\\\results\\\\\"\n",
    "\n",
    "sys.path.append(\"..\\\\\")\n",
    "from h5_data_utilities import * # helper functions for dealing with h5 files"
   ]
  },
  {
   "cell_type": "markdown",
   "id": "9dba40f9-d2b7-4e12-b7cb-4cae16702875",
   "metadata": {},
   "source": [
    "## 2024.09.06"
   ]
  },
  {
   "cell_type": "code",
   "execution_count": 5,
   "id": "72fb9054-0a2f-497f-8b26-58e97ad8e5e7",
   "metadata": {},
   "outputs": [
    {
     "name": "stdout",
     "output_type": "stream",
     "text": [
      "found 7 files\n",
      "file 0 (C:\\Networking Experiment\\artiq codes\\artiq-master\\results\\2024-09-09\\14\\000017202-ExperimentCycler.h5), size = 425 KB\n",
      "file 1 (C:\\Networking Experiment\\artiq codes\\artiq-master\\results\\2024-09-09\\14\\000017204-ExperimentCycler.h5), size = 102 KB\n",
      "file 2 (C:\\Networking Experiment\\artiq codes\\artiq-master\\results\\2024-09-09\\15\\000017208-ExperimentCycler_atom_loading.h5), size = 324 KB\n",
      "file 3 (C:\\Networking Experiment\\artiq codes\\artiq-master\\results\\2024-09-09\\15\\000017209-ExperimentCycler.h5), size = 194 KB\n",
      "file 5 (C:\\Networking Experiment\\artiq codes\\artiq-master\\results\\2024-09-09\\15\\000017212-ExperimentCycler.h5), size = 139 KB\n",
      "skipped 2 redundant files\n",
      "0 scan_variables over 0 variable scans\n"
     ]
    }
   ],
   "source": [
    "fnames = get_files_by_criteria(date_filters=[\"2024-09-09\"], # only find files from these date directories\n",
    "                               name_filters=[\"Cycler\"], # only find files containing all these strings\n",
    "                               condition=lambda filename: True, # use this to filter by experiment parameters, like this: lambda filename: np.bool_(h5py.File(filename)['datasets']['set_current_coil_volts_at_finish'])\n",
    "                               start_dir=results,\n",
    "                               include_path=True, # only return the name of the file, not the full path\n",
    "                               print_filenames=True\n",
    ")\n",
    "\n",
    "print(f\"found {len(fnames)} files\")\n",
    "rid_list = [] \n",
    "\n",
    "scan_dictionary = {}\n",
    "for i,f in enumerate(fnames):\n",
    "    try:\n",
    "        file = h5py.File(os.path.join(results, f))\n",
    "        rid = file['rid'][()]\n",
    "        if rid not in rid_list:\n",
    "            rid_list.append(rid)\n",
    "            ds = file['datasets']\n",
    "            if \"GeneralVariableScan\" in f:\n",
    "                try:\n",
    "                    scan_var1 = str_from_h5(ds['scan_variable1_name'])\n",
    "                    scan_str = scan_var1\n",
    "                    if str_from_h5(ds['scan_variable2_name']) != '':\n",
    "                        scan_str += \", \" +str_from_h5(ds['scan_variable2_name'])\n",
    "                    print(f\"file {i} ({f}) scanned over \"+scan_str)\n",
    "                    scan_dictionary[f] = scan_var1\n",
    "                except:\n",
    "                    print(f\"oops... something wrong with {f}\")\n",
    "            else:\n",
    "                print(f\"file {i} ({f}), size = {os.path.getsize(f)/1000:.0f} KB\")\n",
    "    except OSError:\n",
    "        pass # if rid wasn't in the file, its corrupt\n",
    "    finally:\n",
    "        file.close()\n",
    "print(f\"skipped {len(fnames)-len(rid_list)} redundant files\")\n",
    "scan_groups = {}\n",
    "\n",
    "for key,val in scan_dictionary.items():\n",
    "    if not val in scan_groups:\n",
    "        scan_groups[val] = []\n",
    "    scan_groups[val].append(key)\n",
    "print(f\"{len(scan_groups)} scan_variables over {len(scan_dictionary)} variable scans\")"
   ]
  },
  {
   "cell_type": "code",
   "execution_count": 20,
   "id": "a323686e-5c3d-467c-8d89-1a0c1b7b840e",
   "metadata": {},
   "outputs": [],
   "source": [
    "def get_piecewise_sequence(sequence_dict):\n",
    "    sequence_transitions = (len(sequence_dict)-2)*2\n",
    "    n_points = sequence_transitions + 2\n",
    "    timestamps = np.zeros(n_points)\n",
    "    levels =  np.zeros(n_points)\n",
    "    i = 0\n",
    "    durations = list(sequence_dict.keys())\n",
    "    values = list(sequence_dict.values())\n",
    "    timestamps[i] = durations[0]\n",
    "    levels[i] = values[0]\n",
    "    for i in range(1, sequence_transitions):\n",
    "\n",
    "        if i % 2:\n",
    "            timestamps[i] = timestamps[i-1]\n",
    "            levels[i] = levels[i-1]\n",
    "        else:\n",
    "            timestamps[i] = timestamps[i-1] + durations[i//2]\n",
    "            levels[i] = values[i//2]\n",
    "\n",
    "    levels[-1] = values[-1]\n",
    "    timestamps[-1] = durations[-1]\n",
    "    return timestamps, levels"
   ]
  },
  {
   "cell_type": "code",
   "execution_count": 21,
   "id": "8039b67f-a6d1-4bcd-bd5f-8e1a963d1ca5",
   "metadata": {},
   "outputs": [
    {
     "data": {
      "text/plain": [
       "[<matplotlib.lines.Line2D at 0x162ffafcd00>]"
      ]
     },
     "execution_count": 21,
     "metadata": {},
     "output_type": "execute_result"
    },
    {
     "data": {
      "image/png": "[encoded data removed]",
      "text/plain": [
       "<Figure size 1000x400 with 1 Axes>"
      ]
     },
     "metadata": {},
     "output_type": "display_data"
    }
   ],
   "source": [
    "f = h5py.File(os.path.join(results, fnames[5])) # frequency scan with biggest dip around -5 kHz\n",
    "rid = f['rid'][()]\n",
    "h5_archive_and_datasets_to_locals(f, parent_locals=locals(), quiet=True)\n",
    "\n",
    "cooling_sequence = {t_MOT_loading:1, t_MOT_dissipation:0, t_PGC_in_MOT:1, t_SPCM_first_shot:1, t_delay_between_shots:0, t_SPCM_first_shot:1}\n",
    "\n",
    "# timestamps, levels = get_piecewise_sequence(cooling_sequence)\n",
    "\n",
    "sequence_dict = cooling_sequence\n",
    "\n",
    "sequence_transitions = (len(sequence_dict)-2)*2\n",
    "n_points = sequence_transitions + 2\n",
    "timestamps = np.zeros(n_points)\n",
    "levels =  np.zeros(n_points)\n",
    "\n",
    "timestamps[0] = 0\n",
    "levels[0] = values\n",
    "\n",
    "\n",
    "fig,ax = plt.subplots(nrows=1,figsize=(10,4))\n",
    "ax.plot(timestamps, levels, color='crimson')"
   ]
  },
  {
   "cell_type": "code",
   "execution_count": 22,
   "id": "98be7165-bc6f-4727-ad14-8cd53df17801",
   "metadata": {},
   "outputs": [
    {
     "data": {
      "text/plain": [
       "dict_keys([0.2, 0.02, 0.01, 0.015, 0.001])"
      ]
     },
     "execution_count": 22,
     "metadata": {},
     "output_type": "execute_result"
    }
   ],
   "source": [
    "cooling_sequence.keys()"
   ]
  },
  {
   "cell_type": "code",
   "execution_count": 9,
   "id": "96da2788-8265-41c2-b8ba-e306bcb333df",
   "metadata": {},
   "outputs": [
    {
     "data": {
      "text/plain": [
       "dict_values([1, 0, 1, 1, 0])"
      ]
     },
     "execution_count": 9,
     "metadata": {},
     "output_type": "execute_result"
    }
   ],
   "source": [
    "cooling_sequence.values()"
   ]
  },
  {
   "cell_type": "code",
   "execution_count": null,
   "id": "d915625e-fc6b-4b5e-8d85-7f324f1c7297",
   "metadata": {},
   "outputs": [],
   "source": []
  }
 ],
 "metadata": {
  "kernelspec": {
   "display_name": "Python 3 (ipykernel)",
   "language": "python",
   "name": "python3"
  },
  "language_info": {
   "codemirror_mode": {
    "name": "ipython",
    "version": 3
   },
   "file_extension": ".py",
   "mimetype": "text/x-python",
   "name": "python",
   "nbconvert_exporter": "python",
   "pygments_lexer": "ipython3",
   "version": "3.9.5"
  }
 },
 "nbformat": 4,
 "nbformat_minor": 5
}
