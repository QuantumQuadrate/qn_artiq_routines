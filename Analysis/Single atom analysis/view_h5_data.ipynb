{
 "cells": [
  {
   "cell_type": "code",
   "execution_count": 66,
   "id": "4e2fd0e8",
   "metadata": {
    "editable": true,
    "slideshow": {
     "slide_type": ""
    },
    "tags": []
   },
   "outputs": [],
   "source": [
    "from matplotlib import pyplot as plt\n",
    "import matplotlib as mpl\n",
    "import csv\n",
    "import numpy as np\n",
    "import os,sys\n",
    "import PIL # for reading tif images\n",
    "import h5py\n",
    "import datetime as dt\n",
    "import time\n",
    "from skimage.filters import threshold_otsu\n",
    "\n",
    "results = \"C:\\\\Networking Experiment\\\\artiq codes\\\\artiq-master\\\\results\\\\\"\n",
    "\n",
    "sys.path.append(\"..\\\\\")\n",
    "from h5_data_utilities import * # helper functions for dealing with h5 files"
   ]
  },
  {
   "cell_type": "markdown",
   "id": "96659eb4-bec6-4460-8263-9ec9df1c89f7",
   "metadata": {},
   "source": [
    "### 2024-11-25"
   ]
  },
  {
   "cell_type": "code",
   "execution_count": 108,
   "id": "b034e3d5-99b9-495f-8d5c-081461f64fd6",
   "metadata": {},
   "outputs": [
    {
     "name": "stdout",
     "output_type": "stream",
     "text": [
      "found 29 files\n",
      "C:\\Networking Experiment\\artiq codes\\artiq-master\\results\\2024-11-25\\09\\000019570-ExperimentCycler.h5\n",
      "C:\\Networking Experiment\\artiq codes\\artiq-master\\results\\2024-11-25\\09\\000019570-ExperimentCycler_atom_loading.h5\n",
      "C:\\Networking Experiment\\artiq codes\\artiq-master\\results\\2024-11-25\\10\\000019571-ExperimentCycler.h5\n",
      "C:\\Networking Experiment\\artiq codes\\artiq-master\\results\\2024-11-25\\10\\000019571-ExperimentCycler_atom_loading.h5\n",
      "C:\\Networking Experiment\\artiq codes\\artiq-master\\results\\2024-11-25\\10\\000019574-ExperimentCycler.h5\n",
      "C:\\Networking Experiment\\artiq codes\\artiq-master\\results\\2024-11-25\\10\\000019576-ExperimentCycler.h5\n",
      "C:\\Networking Experiment\\artiq codes\\artiq-master\\results\\2024-11-25\\10\\000019576-ExperimentCycler_atom_loading.h5\n",
      "C:\\Networking Experiment\\artiq codes\\artiq-master\\results\\2024-11-25\\10\\000019579-ExperimentCycler.h5\n",
      "C:\\Networking Experiment\\artiq codes\\artiq-master\\results\\2024-11-25\\10\\000019579-ExperimentCycler_atom_loading.h5\n",
      "C:\\Networking Experiment\\artiq codes\\artiq-master\\results\\2024-11-25\\10\\000019583-ExperimentCycler.h5\n",
      "C:\\Networking Experiment\\artiq codes\\artiq-master\\results\\2024-11-25\\10\\000019583-ExperimentCycler_atom_loading.h5\n",
      "C:\\Networking Experiment\\artiq codes\\artiq-master\\results\\2024-11-25\\10\\000019585-ExperimentCycler.h5\n",
      "C:\\Networking Experiment\\artiq codes\\artiq-master\\results\\2024-11-25\\10\\000019585-ExperimentCycler_atom_loading.h5\n",
      "C:\\Networking Experiment\\artiq codes\\artiq-master\\results\\2024-11-25\\11\\000019589-ExperimentCycler.h5\n",
      "C:\\Networking Experiment\\artiq codes\\artiq-master\\results\\2024-11-25\\11\\000019589-ExperimentCycler_atom_loading.h5\n",
      "C:\\Networking Experiment\\artiq codes\\artiq-master\\results\\2024-11-25\\11\\000019593-ExperimentCycler.h5\n",
      "C:\\Networking Experiment\\artiq codes\\artiq-master\\results\\2024-11-25\\11\\000019593-ExperimentCycler_atom_loading.h5\n",
      "C:\\Networking Experiment\\artiq codes\\artiq-master\\results\\2024-11-25\\11\\000019596-ExperimentCycler.h5\n",
      "C:\\Networking Experiment\\artiq codes\\artiq-master\\results\\2024-11-25\\11\\000019596-ExperimentCycler_atom_loading.h5\n",
      "C:\\Networking Experiment\\artiq codes\\artiq-master\\results\\2024-11-25\\11\\000019600-ExperimentCycler.h5\n",
      "C:\\Networking Experiment\\artiq codes\\artiq-master\\results\\2024-11-25\\11\\000019602-ExperimentCycler.h5\n",
      "C:\\Networking Experiment\\artiq codes\\artiq-master\\results\\2024-11-25\\11\\000019602-ExperimentCycler_atom_loading.h5\n",
      "C:\\Networking Experiment\\artiq codes\\artiq-master\\results\\2024-11-25\\12\\000019605-ExperimentCycler.h5\n",
      "C:\\Networking Experiment\\artiq codes\\artiq-master\\results\\2024-11-25\\12\\000019605-ExperimentCycler_atom_loading.h5\n",
      "C:\\Networking Experiment\\artiq codes\\artiq-master\\results\\2024-11-25\\12\\000019606-ExperimentCycler.h5\n",
      "C:\\Networking Experiment\\artiq codes\\artiq-master\\results\\2024-11-25\\12\\000019606-ExperimentCycler_atom_loading.h5\n",
      "C:\\Networking Experiment\\artiq codes\\artiq-master\\results\\2024-11-25\\12\\000019607-ExperimentCycler.h5\n",
      "C:\\Networking Experiment\\artiq codes\\artiq-master\\results\\2024-11-25\\12\\000019607-ExperimentCycler_atom_loading.h5\n",
      "C:\\Networking Experiment\\artiq codes\\artiq-master\\results\\2024-11-25\\12\\000019610-ExperimentCycler_atom_loading.h5\n"
     ]
    }
   ],
   "source": [
    "fnames = get_files_by_criteria(date_filters=[\"2024-11-25\"], # only find files from these date directories\n",
    "                               name_filters=[\"Cycler\"], # only find files containing all these strings\n",
    "                               condition=lambda filename: True, # use this to filter by experiment parameters, like this: lambda filename: np.bool_(h5py.File(filename)['datasets']['set_current_coil_volts_at_finish'])\n",
    "                               start_dir=results,\n",
    "                               include_path=True, # only return the name of the file, not the full path\n",
    "                               print_filenames=True\n",
    ")\n",
    "\n",
    "print(f\"found {len(fnames)} files\")\n",
    "\n",
    "for fname in fnames:\n",
    "    print(fname)\n",
    "\n"
   ]
  },
  {
   "cell_type": "code",
   "execution_count": 113,
   "id": "abd265e7-9b47-4f26-8e01-fe5950ab9d97",
   "metadata": {},
   "outputs": [
    {
     "name": "stdout",
     "output_type": "stream",
     "text": [
      "19570\n"
     ]
    }
   ],
   "source": [
    "file1_dict = {}\n",
    "file1 = \"2024-11-25\\\\09\\\\000019570-ExperimentCycler_atom_loading.h5\"\n",
    "# file1 = \"2024-11-25\\\\12\\\\000019610-ExperimentCycler_atom_loading.h5\"\n",
    "f = h5py.File(os.path.join(results, file1))\n",
    "rid1 = f['rid'][()]\n",
    "print(rid1)\n",
    "h5_archive_and_datasets_to_locals(f, parent_locals=file1_dict, quiet=True)"
   ]
  },
  {
   "cell_type": "code",
   "execution_count": 103,
   "id": "dde843f1-6d34-48b3-95a9-a55dfefa2d9e",
   "metadata": {},
   "outputs": [
    {
     "data": {
      "text/plain": [
       "(0.07684408989788231,\n",
       " 0.05141738645427056,\n",
       " 0.08282037811831813,\n",
       " 0.06682598612868088,\n",
       " 0.041244871754301936,\n",
       " 0.034742667887420475)"
      ]
     },
     "execution_count": 103,
     "metadata": {},
     "output_type": "execute_result"
    }
   ],
   "source": [
    "set_point_PD1_AOM_A1, set_point_PD2_AOM_A2, set_point_PD3_AOM_A3, set_point_PD4_AOM_A4, set_point_PD5_AOM_A5, set_point_PD6_AOM_A6"
   ]
  },
  {
   "cell_type": "code",
   "execution_count": 104,
   "id": "b41e0435-fc98-4e51-826d-19dde941432d",
   "metadata": {},
   "outputs": [
    {
     "data": {
      "text/plain": [
       "(7.221749650478898,\n",
       " 7.671853704302128,\n",
       " 0.4369643549145561,\n",
       " -0.16030025298758704)"
      ]
     },
     "execution_count": 104,
     "metadata": {},
     "output_type": "execute_result"
    }
   ],
   "source": [
    "AZ_bottom_volts_MOT, AZ_top_volts_MOT, AX_volts_MOT, AY_volts_MOT"
   ]
  },
  {
   "cell_type": "code",
   "execution_count": 114,
   "id": "175400aa-8165-4a89-957e-61a7a4fd8cbb",
   "metadata": {},
   "outputs": [
    {
     "data": {
      "text/plain": [
       "(array([ 2.,  1.,  0.,  2.,  1.,  6.,  4.,  9., 10., 10.,  5., 11.,  4.,\n",
       "         4., 11.,  4.,  4.,  1.,  1.,  0.,  0.,  0.,  1.,  0.,  0.,  0.,\n",
       "         0.,  3.,  1.,  2.,  1.,  0.,  2.,  0.,  1.,  0.,  0.,  2.,  1.,\n",
       "         0.,  0.,  2.,  0.,  0.,  0.,  0.,  1.,  0.,  0.,  2.]),\n",
       " array([284.  , 293.12, 302.24, 311.36, 320.48, 329.6 , 338.72, 347.84,\n",
       "        356.96, 366.08, 375.2 , 384.32, 393.44, 402.56, 411.68, 420.8 ,\n",
       "        429.92, 439.04, 448.16, 457.28, 466.4 , 475.52, 484.64, 493.76,\n",
       "        502.88, 512.  , 521.12, 530.24, 539.36, 548.48, 557.6 , 566.72,\n",
       "        575.84, 584.96, 594.08, 603.2 , 612.32, 621.44, 630.56, 639.68,\n",
       "        648.8 , 657.92, 667.04, 676.16, 685.28, 694.4 , 703.52, 712.64,\n",
       "        721.76, 730.88, 740.  ]),\n",
       " <BarContainer object of 50 artists>)"
      ]
     },
     "execution_count": 114,
     "metadata": {},
     "output_type": "execute_result"
    },
    {
     "data": {
      "image/png": "[encoded data removed]",
      "text/plain": [
       "<Figure size 640x480 with 1 Axes>"
      ]
     },
     "metadata": {},
     "output_type": "display_data"
    }
   ],
   "source": [
    "plt.hist(photocounts,bins=50)"
   ]
  },
  {
   "cell_type": "code",
   "execution_count": 106,
   "id": "3ab3dcfb-ec4f-40cd-8074-c8a71e5a6796",
   "metadata": {},
   "outputs": [
    {
     "data": {
      "text/plain": [
       "109"
      ]
     },
     "execution_count": 106,
     "metadata": {},
     "output_type": "execute_result"
    }
   ],
   "source": [
    "len(photocounts)"
   ]
  },
  {
   "cell_type": "markdown",
   "id": "533c9549-696c-45bc-a337-a6e9401600a8",
   "metadata": {},
   "source": [
    "### 2024-11-24"
   ]
  },
  {
   "cell_type": "code",
   "execution_count": 89,
   "id": "a4cdb749-cfae-448f-8f7a-22c5a41258dd",
   "metadata": {},
   "outputs": [
    {
     "name": "stdout",
     "output_type": "stream",
     "text": [
      "found 10 files\n",
      "C:\\Networking Experiment\\artiq codes\\artiq-master\\results\\2024-11-24\\15\\000019550-GeneralVariableScan.h5\n",
      "C:\\Networking Experiment\\artiq codes\\artiq-master\\results\\2024-11-24\\15\\000019550-GeneralVariableScan_microwave_Rabi_scan_over_f_microwaves_dds.h5\n",
      "C:\\Networking Experiment\\artiq codes\\artiq-master\\results\\2024-11-24\\15\\000019551-GeneralVariableScan.h5\n",
      "C:\\Networking Experiment\\artiq codes\\artiq-master\\results\\2024-11-24\\15\\000019551-GeneralVariableScan_microwave_Rabi_scan_over_t_microwave_pulse.h5\n",
      "C:\\Networking Experiment\\artiq codes\\artiq-master\\results\\2024-11-24\\16\\000019553-GeneralVariableScan.h5\n",
      "C:\\Networking Experiment\\artiq codes\\artiq-master\\results\\2024-11-24\\16\\000019553-GeneralVariableScan_microwave_Rabi_scan_over_p_D1_pumping_DP.h5\n",
      "C:\\Networking Experiment\\artiq codes\\artiq-master\\results\\2024-11-24\\18\\000019565-GeneralVariableOptimizer.h5\n",
      "C:\\Networking Experiment\\artiq codes\\artiq-master\\results\\2024-11-24\\18\\000019565-GeneralVariableOptimizer_atom_loading_optimized_for_atom_retention_and_loading.h5\n",
      "C:\\Networking Experiment\\artiq codes\\artiq-master\\results\\2024-11-24\\18\\000019566-GeneralVariableOptimizer.h5\n",
      "C:\\Networking Experiment\\artiq codes\\artiq-master\\results\\2024-11-24\\18\\000019566-GeneralVariableOptimizer_atom_loading_optimized_for_atom_loading.h5\n"
     ]
    }
   ],
   "source": [
    "fnames = get_files_by_criteria(date_filters=[\"2024-11-24\"], # only find files from these date directories\n",
    "                               name_filters=[\"General\"], # only find files containing all these strings\n",
    "                               condition=lambda filename: True, # use this to filter by experiment parameters, like this: lambda filename: np.bool_(h5py.File(filename)['datasets']['set_current_coil_volts_at_finish'])\n",
    "                               start_dir=results,\n",
    "                               include_path=True, # only return the name of the file, not the full path\n",
    "                               print_filenames=True\n",
    ")\n",
    "\n",
    "print(f\"found {len(fnames)} files\")\n",
    "\n",
    "for fname in fnames:\n",
    "    print(fname)"
   ]
  },
  {
   "cell_type": "code",
   "execution_count": 97,
   "id": "d6bbd933-f7e1-4a3b-a1f0-bffa48f3b02a",
   "metadata": {},
   "outputs": [
    {
     "name": "stdout",
     "output_type": "stream",
     "text": [
      "19565\n"
     ]
    }
   ],
   "source": [
    "file1_dict = {}\n",
    "file1 = \"2024-11-24\\\\18\\\\000019565-GeneralVariableOptimizer_atom_loading_optimized_for_atom_retention_and_loading.h5\"\n",
    "f = h5py.File(os.path.join(results, file1))\n",
    "rid1 = f['rid'][()]\n",
    "print(rid1)\n",
    "h5_archive_and_datasets_to_locals(f, parent_locals=file1_dict, quiet=True)"
   ]
  },
  {
   "cell_type": "code",
   "execution_count": 98,
   "id": "f94efd75-78ad-4635-9739-9d90e97a32b5",
   "metadata": {},
   "outputs": [
    {
     "data": {
      "text/plain": [
       "(0.07684408989788231,\n",
       " 0.05141738645427056,\n",
       " 0.08282037811831813,\n",
       " 0.06682598612868088,\n",
       " 0.041244871754301936,\n",
       " 0.034742667887420475)"
      ]
     },
     "execution_count": 98,
     "metadata": {},
     "output_type": "execute_result"
    }
   ],
   "source": [
    "set_point_PD1_AOM_A1, set_point_PD2_AOM_A2, set_point_PD3_AOM_A3, set_point_PD4_AOM_A4, set_point_PD5_AOM_A5, set_point_PD6_AOM_A6"
   ]
  },
  {
   "cell_type": "code",
   "execution_count": 99,
   "id": "864c6721-a872-4dc1-a95a-99a21ce08693",
   "metadata": {},
   "outputs": [
    {
     "data": {
      "text/plain": [
       "(7.221749650478898,\n",
       " 7.671853704302128,\n",
       " 0.4369643549145561,\n",
       " -0.16030025298758704)"
      ]
     },
     "execution_count": 99,
     "metadata": {},
     "output_type": "execute_result"
    }
   ],
   "source": [
    "AZ_bottom_volts_MOT, AZ_top_volts_MOT, AX_volts_MOT, AY_volts_MOT"
   ]
  },
  {
   "cell_type": "code",
   "execution_count": 100,
   "id": "55b56a3e-8e44-487b-97b1-33d87da58f7f",
   "metadata": {},
   "outputs": [
    {
     "data": {
      "text/plain": [
       "(array([1., 0., 0., 0., 0., 1., 0., 0., 0., 0., 0., 0., 0., 0., 0., 0., 0.,\n",
       "        0., 0., 1., 0., 0., 0., 0., 0., 0., 0., 0., 1., 1., 0., 0., 0., 0.,\n",
       "        0., 1., 0., 0., 0., 0., 0., 0., 0., 0., 1., 0., 0., 1., 0., 1.]),\n",
       " array([284.  , 286.68, 289.36, 292.04, 294.72, 297.4 , 300.08, 302.76,\n",
       "        305.44, 308.12, 310.8 , 313.48, 316.16, 318.84, 321.52, 324.2 ,\n",
       "        326.88, 329.56, 332.24, 334.92, 337.6 , 340.28, 342.96, 345.64,\n",
       "        348.32, 351.  , 353.68, 356.36, 359.04, 361.72, 364.4 , 367.08,\n",
       "        369.76, 372.44, 375.12, 377.8 , 380.48, 383.16, 385.84, 388.52,\n",
       "        391.2 , 393.88, 396.56, 399.24, 401.92, 404.6 , 407.28, 409.96,\n",
       "        412.64, 415.32, 418.  ]),\n",
       " <BarContainer object of 50 artists>)"
      ]
     },
     "execution_count": 100,
     "metadata": {},
     "output_type": "execute_result"
    },
    {
     "data": {
      "image/png": "[encoded data removed]",
      "text/plain": [
       "<Figure size 640x480 with 1 Axes>"
      ]
     },
     "metadata": {},
     "output_type": "display_data"
    }
   ],
   "source": [
    "plt.hist(photocounts[:-100],bins=50)"
   ]
  },
  {
   "cell_type": "code",
   "execution_count": 101,
   "id": "4c8229e9-f8e6-400e-8bbd-403fed20e52d",
   "metadata": {},
   "outputs": [
    {
     "ename": "ValueError",
     "evalue": "cannot reshape array of size 109 into shape (100)",
     "output_type": "error",
     "traceback": [
      "\u001b[1;31m---------------------------------------------------------------------------\u001b[0m",
      "\u001b[1;31mValueError\u001b[0m                                Traceback (most recent call last)",
      "Cell \u001b[1;32mIn[101], line 1\u001b[0m\n\u001b[1;32m----> 1\u001b[0m plt\u001b[38;5;241m.\u001b[39mimshow(\u001b[43mphotocounts\u001b[49m\u001b[38;5;241;43m.\u001b[39;49m\u001b[43mreshape\u001b[49m\u001b[43m(\u001b[49m\u001b[38;5;241;43m-\u001b[39;49m\u001b[38;5;241;43m1\u001b[39;49m\u001b[43m,\u001b[49m\u001b[38;5;241;43m100\u001b[39;49m\u001b[43m)\u001b[49m)\n",
      "\u001b[1;31mValueError\u001b[0m: cannot reshape array of size 109 into shape (100)"
     ]
    }
   ],
   "source": [
    "plt.imshow(photocounts.reshape(-1,100))"
   ]
  },
  {
   "cell_type": "markdown",
   "id": "233b1ea1-8f53-4dc2-add7-8499015fbfba",
   "metadata": {},
   "source": [
    "### 2024-11-20"
   ]
  },
  {
   "cell_type": "code",
   "execution_count": 70,
   "id": "dc7361c6-eebd-4712-a629-e25819357110",
   "metadata": {},
   "outputs": [
    {
     "name": "stdout",
     "output_type": "stream",
     "text": [
      "found 6 files\n",
      "C:\\Networking Experiment\\artiq codes\\artiq-master\\results\\2024-11-19\\10\\000019185-ExperimentCycler.h5\n",
      "C:\\Networking Experiment\\artiq codes\\artiq-master\\results\\2024-11-19\\10\\000019185-ExperimentCycler_atom_loading.h5\n",
      "C:\\Networking Experiment\\artiq codes\\artiq-master\\results\\2024-11-19\\20\\000019202-ExperimentCycler.h5\n",
      "C:\\Networking Experiment\\artiq codes\\artiq-master\\results\\2024-11-19\\20\\000019202-ExperimentCycler_atom_loading.h5\n",
      "C:\\Networking Experiment\\artiq codes\\artiq-master\\results\\2024-11-19\\21\\000019210-ExperimentCycler.h5\n",
      "C:\\Networking Experiment\\artiq codes\\artiq-master\\results\\2024-11-19\\21\\000019210-ExperimentCycler_atom_loading.h5\n"
     ]
    }
   ],
   "source": [
    "fnames = get_files_by_criteria(date_filters=[\"2024-11-19\"], # only find files from these date directories\n",
    "                               name_filters=[\"Cycler\"], # only find files containing all these strings\n",
    "                               condition=lambda filename: True, # use this to filter by experiment parameters, like this: lambda filename: np.bool_(h5py.File(filename)['datasets']['set_current_coil_volts_at_finish'])\n",
    "                               start_dir=results,\n",
    "                               include_path=True, # only return the name of the file, not the full path\n",
    "                               print_filenames=True\n",
    ")\n",
    "\n",
    "print(f\"found {len(fnames)} files\")\n",
    "\n",
    "for fname in fnames:\n",
    "    print(fname)\n",
    "\n"
   ]
  },
  {
   "cell_type": "code",
   "execution_count": 71,
   "id": "2132bea0-9683-4e52-b3cd-0d2b0e2a2f36",
   "metadata": {},
   "outputs": [
    {
     "name": "stdout",
     "output_type": "stream",
     "text": [
      "found 6 files\n",
      "skipped 3 redundant files\n",
      "0 scan_variables over 0 variable scans\n"
     ]
    }
   ],
   "source": [
    "fnames = get_files_by_criteria(date_filters=[ \"2024-11-19\"], # only find files from these dates. to include all dates in the 20s, do 2024-05-2\n",
    "                               name_filters=[\"Cycler\"], # only find files containing all these strings\n",
    "                               condition=lambda filename: True, # use this to filter by experiment parameters, like this: lambda filename: np.bool_(h5py.File(filename)['datasets']['set_current_coil_volts_at_finish'])\n",
    "                               start_dir=results,\n",
    "                               include_path=True, # only return the name of the file, not the full path\n",
    "                               print_filenames=True\n",
    ")\n",
    "print(f\"found {len(fnames)} files\")\n",
    "rid_list = [] \n",
    "\n",
    "scan_dictionary = {}\n",
    "for i,f in enumerate(fnames):\n",
    "    try:\n",
    "        file = h5py.File(os.path.join(results, f))\n",
    "        rid = file['rid'][()]\n",
    "        if rid not in rid_list:\n",
    "            rid_list.append(rid)\n",
    "            ds = file['datasets']\n",
    "            if \"GeneralVariableScan\" in f:\n",
    "                try:\n",
    "                    scan_var1 = str_from_h5(ds['scan_variable1_name'])\n",
    "                    scan_str = scan_var1\n",
    "                    if str_from_h5(ds['scan_variable2_name']) != '':\n",
    "                        scan_str += \", \" +str_from_h5(ds['scan_variable2_name'])\n",
    "                    print(f\"file {i} (...{f[len(results)-8:]}) scanned over \"+scan_str)\n",
    "                    scan_dictionary[f] = scan_var1\n",
    "                except:\n",
    "                    print(f\"oops... something wrong with {f}\")\n",
    "            elif \"GeneralVariableOptimizer\" in f:\n",
    "                optimizer_vars_dataset = [str(x)[1:] for x in ds['optimizer_vars_dataset']]\n",
    "                cost_function = str(ds['cost_function'][()])[1:]\n",
    "                print(f\"file {i} (...{f[len(results)-8:]}) optimized {optimizer_vars_dataset} for {cost_function}\")\n",
    "    except OSError:\n",
    "        pass # if rid wasn't in the file, its corrupt\n",
    "    finally:\n",
    "        file.close()\n",
    "print(f\"skipped {len(fnames)-len(rid_list)} redundant files\")\n",
    "scan_groups = {}\n",
    "\n",
    "for key,val in scan_dictionary.items():\n",
    "    if not val in scan_groups:\n",
    "        scan_groups[val] = []\n",
    "    scan_groups[val].append(key)\n",
    "print(f\"{len(scan_groups)} scan_variables over {len(scan_dictionary)} variable scans\")\n"
   ]
  },
  {
   "cell_type": "markdown",
   "id": "47f7dfcf-af5b-425c-84e1-dcccbff2e2ea",
   "metadata": {},
   "source": [
    "### 2024-10-18"
   ]
  },
  {
   "cell_type": "code",
   "execution_count": 57,
   "id": "3d357fd8-2703-4aeb-9c37-7f8d60cde17d",
   "metadata": {},
   "outputs": [
    {
     "name": "stdout",
     "output_type": "stream",
     "text": [
      "found 1 files\n",
      "C:\\Networking Experiment\\artiq codes\\artiq-master\\results\\2024-10-18\\21\\000018215-AtomLoadingOptimizerMLOOP.h5\n"
     ]
    }
   ],
   "source": [
    "fnames = get_files_by_criteria(date_filters=[\"2024-10-18\"], # only find files from these date directories\n",
    "                               name_filters=[\"MLOOP\"], # only find files containing all these strings\n",
    "                               condition=lambda filename: True, # use this to filter by experiment parameters, like this: lambda filename: np.bool_(h5py.File(filename)['datasets']['set_current_coil_volts_at_finish'])\n",
    "                               start_dir=results,\n",
    "                               include_path=True, # only return the name of the file, not the full path\n",
    "                               print_filenames=True\n",
    ")\n",
    "\n",
    "print(f\"found {len(fnames)} files\")\n",
    "\n",
    "for fname in fnames:\n",
    "    print(fname)\n",
    "\n"
   ]
  },
  {
   "cell_type": "code",
   "execution_count": null,
   "id": "b81a7cf6-8ca1-4e14-b961-78cc7d486c6f",
   "metadata": {},
   "outputs": [],
   "source": []
  },
  {
   "cell_type": "code",
   "execution_count": 58,
   "id": "6e790e76-04c5-41ff-8da1-9624dfad9aa0",
   "metadata": {},
   "outputs": [
    {
     "name": "stdout",
     "output_type": "stream",
     "text": [
      "18215\n",
      "-69\n",
      "7.237788132953694\n",
      "7.549347886829366\n",
      "0.3119130413586576\n",
      "-0.026948793010542454\n",
      "-12.223212983339415\n",
      "-16.211101418272513\n",
      "-14.554033103657575\n",
      "-13.718933807093432\n",
      "-14.477728381257506\n",
      "-10.07584928707482\n"
     ]
    }
   ],
   "source": [
    "# compare MOT setpoints last week to this week after getting the atom loading back\n",
    "\n",
    "\n",
    "\n",
    "    # ds = h5py.File(os.path.join(results, fname))['datasets']\n",
    "\n",
    "file1_dict = {}\n",
    "# file1 = \"2024-05-15\\\\13\\\\000013756-AtomLoadingOptimizerMLOOP.h5\"\n",
    "file1 = \"2024-10-18\\\\21\\\\000018215-AtomLoadingOptimizerMLOOP.h5\"\n",
    "f = h5py.File(os.path.join(results, file1))\n",
    "rid1 = f['rid'][()]\n",
    "print(rid1)\n",
    "h5_archive_and_datasets_to_locals(f, parent_locals=file1_dict, quiet=True)\n",
    "\n",
    "# best cost\n",
    "print(min(file1_dict[\"cost\"]))\n",
    "\n",
    "print(file1_dict[\"AZ_bottom_volts_MOT\"])\n",
    "print(file1_dict[\"AZ_top_volts_MOT\"])\n",
    "print(file1_dict[\"AX_volts_MOT\"])\n",
    "print(file1_dict[\"AY_volts_MOT\"])\n",
    "\n",
    "print(file1_dict[\"p_AOM_A1\"])\n",
    "print(file1_dict[\"p_AOM_A2\"])\n",
    "print(file1_dict[\"p_AOM_A3\"])\n",
    "print(file1_dict[\"p_AOM_A4\"])\n",
    "print(file1_dict[\"p_AOM_A5\"])\n",
    "print(file1_dict[\"p_AOM_A6\"])\n",
    "\n",
    "# file2_dict = {}\n",
    "# # file2 = \"2024-05-15\\\\14\\\\000013757-ExperimentVariables.h5\"\n",
    "# file2 = \"2024-05-17\\\\09\\\\000013835-ExperimentVariables.h5\"\n",
    "# f = h5py.File(os.path.join(results, file2))\n",
    "# rid2 = f['rid'][()]\n",
    "# print(rid2)\n",
    "# h5_archive_and_datasets_to_locals(f, parent_locals=file2_dict, quiet=True)\n",
    "\n",
    "# print(\"this week/last week\")\n",
    "# for i in range(1,7):\n",
    "#     new_over_old = file2_dict[f\"set_point_PD{i}_AOM_A{i}\"]/file1_dict[f\"set_point_PD{i}_AOM_A{i}\"]\n",
    "#     print(f\"setpoint AOM A{i} new/old\", new_over_old)\n",
    "\n",
    "# print(\"\\nthis week/last week\")\n",
    "# print(file2_dict[\"AZ_bottom_volts_MOT\"]/file1_dict[\"AZ_bottom_volts_MOT\"])\n",
    "# print(file2_dict[\"AZ_top_volts_MOT\"]/file1_dict[\"AZ_top_volts_MOT\"])\n",
    "# print(file2_dict[\"AX_volts_MOT\"]/file1_dict[\"AX_volts_MOT\"])\n",
    "# print(file2_dict[\"AY_volts_MOT\"]/file1_dict[\"AY_volts_MOT\"])\n"
   ]
  },
  {
   "cell_type": "code",
   "execution_count": 59,
   "id": "9ed41dec-ef29-4e26-981e-99af0e368245",
   "metadata": {},
   "outputs": [
    {
     "data": {
      "text/plain": [
       "(0.07813145789701055,\n",
       " 0.04785060531273171,\n",
       " 0.06615764849118753,\n",
       " 0.0755240947839825,\n",
       " 0.04533416906861697,\n",
       " 0.038373965501021415)"
      ]
     },
     "execution_count": 59,
     "metadata": {},
     "output_type": "execute_result"
    }
   ],
   "source": [
    "set_point_PD1_AOM_A1, set_point_PD2_AOM_A2, set_point_PD3_AOM_A3, set_point_PD4_AOM_A4, set_point_PD5_AOM_A5, set_point_PD6_AOM_A6"
   ]
  },
  {
   "cell_type": "code",
   "execution_count": 56,
   "id": "1f2b4ec4-023a-45ca-ba9c-11a5fa889369",
   "metadata": {},
   "outputs": [
    {
     "data": {
      "text/plain": [
       "(7.421226494859214, 7.88001263814208, 0.5464807746105242, -0.2273272178485219)"
      ]
     },
     "execution_count": 56,
     "metadata": {},
     "output_type": "execute_result"
    }
   ],
   "source": [
    "AZ_bottom_volts_MOT, AZ_top_volts_MOT, AX_volts_MOT, AY_volts_MOT"
   ]
  },
  {
   "cell_type": "code",
   "execution_count": 25,
   "id": "2d2ff279-4417-4859-a920-ee8c24501b29",
   "metadata": {},
   "outputs": [
    {
     "name": "stdout",
     "output_type": "stream",
     "text": [
      "-11.55942738939844\n",
      "-15.739514482207646\n",
      "-14.152729088975589\n",
      "-13.756361106963846\n",
      "-14.97697135938087\n",
      "-9.973774794108445\n",
      "[0.07636649725036654]\n",
      "[0.05531137420812689]\n",
      "[0.08474162548718189]\n",
      "[0.06205295421136246]\n",
      "[0.05168188143011005]\n",
      "[0.038233872080699526]\n"
     ]
    }
   ],
   "source": [
    "setpoint1 = []\n",
    "setpoint2 = []\n",
    "setpoint3 = []\n",
    "setpoint4 = []\n",
    "setpoint5 = []\n",
    "setpoint6 = []\n",
    "AZbottom = []\n",
    "AZtop = []\n",
    "AX = []\n",
    "AY = []\n",
    "best_cost = []\n",
    "rid = []\n",
    "\n",
    "for fname in fnames:\n",
    "\n",
    "    ds = h5py.File(os.path.join(results, fname))['datasets']\n",
    "    mincost = min(ds['cost'][()])\n",
    "    if mincost < -10: # ignore cases where the optimizer did a terrible job\n",
    "        best_cost.append(mincost)\n",
    "        try:\n",
    "            ds = h5py.File(os.path.join(results, fname))['archive']\n",
    "            AZbottom.append(ds['AZ_bottom_volts_MOT'][()])\n",
    "            AZtop.append(ds['AZ_top_volts_MOT'][()])\n",
    "            AX.append(ds['AX_volts_MOT'][()])\n",
    "            AY.append(ds['AY_volts_MOT'][()])\n",
    "        \n",
    "            setpoint1.append(ds['set_point_PD1_AOM_A1'][()])\n",
    "            setpoint2.append(ds['set_point_PD2_AOM_A2'][()])\n",
    "            setpoint3.append(ds['set_point_PD3_AOM_A3'][()])\n",
    "            setpoint4.append(ds['set_point_PD4_AOM_A4'][()])\n",
    "            setpoint5.append(ds['set_point_PD5_AOM_A5'][()])\n",
    "            setpoint6.append(ds['set_point_PD6_AOM_A6'][()])\n",
    "            rid.append(h5py.File(os.path.join(results, fname))['rid'][()])\n",
    "\n",
    "        except KeyError:\n",
    "            pass\n",
    "\n",
    "print(ds[\"p_AOM_A1\"][()])\n",
    "print(ds[\"p_AOM_A2\"][()])\n",
    "print(ds[\"p_AOM_A3\"][()])\n",
    "print(ds[\"p_AOM_A4\"][()])\n",
    "print(ds[\"p_AOM_A5\"][()])\n",
    "print(ds[\"p_AOM_A6\"][()])\n",
    "\n",
    "print(setpoint1)\n",
    "print(setpoint2)\n",
    "print(setpoint3)\n",
    "print(setpoint4)\n",
    "print(setpoint5)\n",
    "print(setpoint6)"
   ]
  },
  {
   "cell_type": "code",
   "execution_count": 10,
   "id": "5a2ec53a-5832-4e96-ac23-2f938b87d0d5",
   "metadata": {},
   "outputs": [
    {
     "ename": "NameError",
     "evalue": "name 'rid' is not defined",
     "output_type": "error",
     "traceback": [
      "\u001b[1;31m---------------------------------------------------------------------------\u001b[0m",
      "\u001b[1;31mNameError\u001b[0m                                 Traceback (most recent call last)",
      "Cell \u001b[1;32mIn[10], line 5\u001b[0m\n\u001b[0;32m      2\u001b[0m ax,ax2,ax3,ax4 \u001b[38;5;241m=\u001b[39m axes\n\u001b[0;32m      4\u001b[0m ax\u001b[38;5;241m.\u001b[39mset_title(\u001b[38;5;124m\"\u001b[39m\u001b[38;5;124mAtomLoadingOptimizer values over time\u001b[39m\u001b[38;5;124m\"\u001b[39m)\n\u001b[1;32m----> 5\u001b[0m ax\u001b[38;5;241m.\u001b[39mplot(\u001b[43mrid\u001b[49m, AZbottom, label\u001b[38;5;241m=\u001b[39m\u001b[38;5;124m'\u001b[39m\u001b[38;5;124mAZ bottom\u001b[39m\u001b[38;5;124m'\u001b[39m)\n\u001b[0;32m      6\u001b[0m ax\u001b[38;5;241m.\u001b[39mplot(rid, AZtop, label\u001b[38;5;241m=\u001b[39m\u001b[38;5;124m'\u001b[39m\u001b[38;5;124mAZ top\u001b[39m\u001b[38;5;124m'\u001b[39m)\n\u001b[0;32m      7\u001b[0m ax2\u001b[38;5;241m.\u001b[39mplot(rid, AX, label\u001b[38;5;241m=\u001b[39m\u001b[38;5;124m'\u001b[39m\u001b[38;5;124mAX\u001b[39m\u001b[38;5;124m'\u001b[39m)\n",
      "\u001b[1;31mNameError\u001b[0m: name 'rid' is not defined"
     ]
    },
    {
     "data": {
      "image/png": "[encoded data removed]",
      "text/plain": [
       "<Figure size 1280x960 with 4 Axes>"
      ]
     },
     "metadata": {},
     "output_type": "display_data"
    }
   ],
   "source": [
    "fig,axes = plt.subplots(nrows=4, sharex=True, dpi=200)\n",
    "ax,ax2,ax3,ax4 = axes\n",
    "\n",
    "ax.set_title(\"AtomLoadingOptimizer values over time\")\n",
    "ax.plot(rid, AZbottom, label='AZ bottom')\n",
    "ax.plot(rid, AZtop, label='AZ top')\n",
    "ax2.plot(rid, AX, label='AX')\n",
    "ax2.plot(rid, AY, label='AY')\n",
    "ax.set_ylabel(\"V\")\n",
    "ax2.set_ylabel(\"V\")\n",
    "\n",
    "ax3.plot(rid, setpoint1, label='setpoint AOM A1')\n",
    "ax3.plot(rid, setpoint2, label='setpoint AOM A2')\n",
    "ax3.plot(rid, setpoint3, label='setpoint AOM A3')\n",
    "ax3.plot(rid, setpoint4, label='setpoint AOM A4')\n",
    "ax3.plot(rid, setpoint5, label='setpoint AOM A5')\n",
    "ax3.plot(rid, setpoint6, label='setpoint AOM A6')\n",
    "\n",
    "ax3.set_ylabel(\"setpoint\")\n",
    "\n",
    "ax4.plot(rid, best_cost, label='cost')\n",
    "ax4.set_xlabel('experiment ID')\n",
    "for fudge,ax in zip([0.1,0.2,-0.3,0.2],axes):\n",
    "    ax.legend(loc=(1.05,fudge))\n",
    "    # ax.axvline(13241,ls='--',color='crimson')\n",
    "plt.show()\n",
    "\n",
    "\n",
    "\n"
   ]
  },
  {
   "cell_type": "markdown",
   "id": "843da192-6ba0-43fa-a073-84f491536af5",
   "metadata": {},
   "source": [
    "## 2024-09-27"
   ]
  },
  {
   "cell_type": "code",
   "execution_count": 61,
   "id": "cef69c23-9b54-4ce0-a438-f2df46a4fe29",
   "metadata": {},
   "outputs": [
    {
     "name": "stdout",
     "output_type": "stream",
     "text": [
      "found 8 files\n",
      "file 0 (C:\\Networking Experiment\\artiq codes\\artiq-master\\results\\2024-09-26\\11\\000017846-ExperimentCycler.h5), size = 114 KB\n",
      "file 2 (C:\\Networking Experiment\\artiq codes\\artiq-master\\results\\2024-09-26\\11\\000017855-ExperimentCycler.h5), size = 104 KB\n",
      "file 4 (C:\\Networking Experiment\\artiq codes\\artiq-master\\results\\2024-09-26\\12\\000017859-ExperimentCycler.h5), size = 7182 KB\n",
      "file 6 (C:\\Networking Experiment\\artiq codes\\artiq-master\\results\\2024-09-26\\15\\000017867-ExperimentCycler.h5), size = 136 KB\n",
      "skipped 4 redundant files\n",
      "0 scan_variables over 0 variable scans\n"
     ]
    }
   ],
   "source": [
    "fnames = get_files_by_criteria(date_filters=[\"2024-09-26\"], # only find files from these date directories\n",
    "                               name_filters=[\"Cycler\"], # only find files containing all these strings\n",
    "                               condition=lambda filename: True, # use this to filter by experiment parameters, like this: lambda filename: np.bool_(h5py.File(filename)['datasets']['set_current_coil_volts_at_finish'])\n",
    "                               start_dir=results,\n",
    "                               include_path=True, # only return the name of the file, not the full path\n",
    "                               print_filenames=True\n",
    ")\n",
    "\n",
    "print(f\"found {len(fnames)} files\")\n",
    "rid_list = [] \n",
    "\n",
    "scan_dictionary = {}\n",
    "for i,f in enumerate(fnames):\n",
    "    try:\n",
    "        file = h5py.File(os.path.join(results, f))\n",
    "        rid = file['rid'][()]\n",
    "        if rid not in rid_list:\n",
    "            rid_list.append(rid)\n",
    "            ds = file['datasets']\n",
    "            if \"GeneralVariableScan\" in f:\n",
    "                try:\n",
    "                    scan_var1 = str_from_h5(ds['scan_variable1_name'])\n",
    "                    scan_str = scan_var1\n",
    "                    if str_from_h5(ds['scan_variable2_name']) != '':\n",
    "                        scan_str += \", \" +str_from_h5(ds['scan_variable2_name'])\n",
    "                    print(f\"file {i} ({f}) scanned over \"+scan_str)\n",
    "                    scan_dictionary[f] = scan_var1\n",
    "                except:\n",
    "                    print(f\"oops... something wrong with {f}\")\n",
    "            else:\n",
    "                print(f\"file {i} ({f}), size = {os.path.getsize(f)/1000:.0f} KB\")\n",
    "    except OSError:\n",
    "        pass # if rid wasn't in the file, its corrupt\n",
    "    finally:\n",
    "        file.close()\n",
    "print(f\"skipped {len(fnames)-len(rid_list)} redundant files\")\n",
    "scan_groups = {}\n",
    "\n",
    "for key,val in scan_dictionary.items():\n",
    "    if not val in scan_groups:\n",
    "        scan_groups[val] = []\n",
    "    scan_groups[val].append(key)\n",
    "print(f\"{len(scan_groups)} scan_variables over {len(scan_dictionary)} variable scans\")"
   ]
  },
  {
   "cell_type": "code",
   "execution_count": 62,
   "id": "9a830bb3-c603-41fc-93c3-938195483426",
   "metadata": {},
   "outputs": [],
   "source": [
    "f = h5py.File(os.path.join(results, fnames[2]))\n",
    "rid = f['rid'][()]\n",
    "h5_archive_and_datasets_to_locals(f, parent_locals=locals(), quiet=True)"
   ]
  },
  {
   "cell_type": "code",
   "execution_count": 63,
   "id": "976b126a-b59e-47c2-92f0-80e80d1896a0",
   "metadata": {},
   "outputs": [
    {
     "name": "stdout",
     "output_type": "stream",
     "text": [
      "loading rate = 0.1743119266055046\n"
     ]
    },
    {
     "data": {
      "image/png": "[encoded data removed]",
      "text/plain": [
       "<Figure size 640x480 with 1 Axes>"
      ]
     },
     "metadata": {},
     "output_type": "display_data"
    }
   ],
   "source": [
    "plt.hist(photocounts,bins=50)\n",
    "threshold = threshold_otsu(photocounts)\n",
    "plt.axvline(threshold)\n",
    "print(\"loading rate =\",len(photocounts[photocounts > threshold])/len(photocounts))"
   ]
  },
  {
   "cell_type": "code",
   "execution_count": 45,
   "id": "17a08ee5-6263-4057-b237-b23b47da942a",
   "metadata": {},
   "outputs": [
    {
     "data": {
      "text/plain": [
       "(0.07684408989788231,\n",
       " 0.05141738645427056,\n",
       " 0.08282037811831813,\n",
       " 0.06682598612868088,\n",
       " 0.041244871754301936,\n",
       " 0.034742667887420475)"
      ]
     },
     "execution_count": 45,
     "metadata": {},
     "output_type": "execute_result"
    }
   ],
   "source": [
    "set_point_PD1_AOM_A1, set_point_PD2_AOM_A2, set_point_PD3_AOM_A3, set_point_PD4_AOM_A4, set_point_PD5_AOM_A5, set_point_PD6_AOM_A6"
   ]
  },
  {
   "cell_type": "code",
   "execution_count": null,
   "id": "ef38ff6e-8bfa-4190-9757-4afb011d6a55",
   "metadata": {},
   "outputs": [],
   "source": [
    "[('AZ_bottom_volts_MOT',-0.05*V,0.05*V,'diff'), ('AZ_top_volts_MOT',-0.05*V,0.05*V,'diff'), ('AX_volts_MOT',-0.1*V,0.1*V,'diff'), ('AY_volts_MOT',-0.1*V,0.1*V,'diff'), ('set_point_PD1_AOM_A1',0.9,1.2,'perc'), ('set_point_PD2_AOM_A2',0.9,1.2,'perc'), ('set_point_PD3_AOM_A3',0.9,1.2,'perc'), ('set_point_PD4_AOM_A4',0.9,1.2,'perc'), ('set_point_PD5_AOM_A5',0.9,1.2,'perc'), ('set_point_PD6_AOM_A6',0.9,1.2,'perc')]"
   ]
  },
  {
   "cell_type": "code",
   "execution_count": 46,
   "id": "d519af56-bb9d-4b21-be1a-69568f9cdfb4",
   "metadata": {},
   "outputs": [
    {
     "data": {
      "text/plain": [
       "(7.221749650478898,\n",
       " 7.671853704302128,\n",
       " 0.4369643549145561,\n",
       " -0.16030025298758704)"
      ]
     },
     "execution_count": 46,
     "metadata": {},
     "output_type": "execute_result"
    }
   ],
   "source": [
    "AZ_bottom_volts_MOT, AZ_top_volts_MOT, AX_volts_MOT, AY_volts_MOT"
   ]
  },
  {
   "cell_type": "markdown",
   "id": "f500708f-fe33-43f0-a528-0e715f7d579a",
   "metadata": {},
   "source": [
    "## 2024.09.19"
   ]
  },
  {
   "cell_type": "code",
   "execution_count": 48,
   "id": "d792093e-b00c-44bb-bf5a-4b38f20dd7be",
   "metadata": {},
   "outputs": [
    {
     "name": "stdout",
     "output_type": "stream",
     "text": [
      "found 2 files\n",
      "file 0 (C:\\Networking Experiment\\artiq codes\\artiq-master\\results\\2024-09-06\\20\\000017154-GeneralVariableScan.h5) scanned over t_microwave_pulse\n",
      "skipped 1 redundant files\n",
      "1 scan_variables over 1 variable scans\n"
     ]
    }
   ],
   "source": [
    "fnames = get_files_by_criteria(date_filters=[\"2024-09-06\\\\20\"], # only find files from these date directories\n",
    "                               name_filters=[\"General\"], # only find files containing all these strings\n",
    "                               condition=lambda filename: True, # use this to filter by experiment parameters, like this: lambda filename: np.bool_(h5py.File(filename)['datasets']['set_current_coil_volts_at_finish'])\n",
    "                               start_dir=results,\n",
    "                               include_path=True, # only return the name of the file, not the full path\n",
    "                               print_filenames=True\n",
    ")\n",
    "\n",
    "print(f\"found {len(fnames)} files\")\n",
    "rid_list = [] \n",
    "\n",
    "scan_dictionary = {}\n",
    "for i,f in enumerate(fnames):\n",
    "    try:\n",
    "        file = h5py.File(os.path.join(results, f))\n",
    "        rid = file['rid'][()]\n",
    "        if rid not in rid_list:\n",
    "            rid_list.append(rid)\n",
    "            ds = file['datasets']\n",
    "            if \"GeneralVariableScan\" in f:\n",
    "                try:\n",
    "                    scan_var1 = str_from_h5(ds['scan_variable1_name'])\n",
    "                    scan_str = scan_var1\n",
    "                    if str_from_h5(ds['scan_variable2_name']) != '':\n",
    "                        scan_str += \", \" +str_from_h5(ds['scan_variable2_name'])\n",
    "                    print(f\"file {i} ({f}) scanned over \"+scan_str)\n",
    "                    scan_dictionary[f] = scan_var1\n",
    "                except:\n",
    "                    print(f\"oops... something wrong with {f}\")\n",
    "            else:\n",
    "                print(f\"file {i} ({f}), size = {os.path.getsize(f)/1000:.0f} KB\")\n",
    "    except OSError:\n",
    "        pass # if rid wasn't in the file, its corrupt\n",
    "    finally:\n",
    "        file.close()\n",
    "print(f\"skipped {len(fnames)-len(rid_list)} redundant files\")\n",
    "scan_groups = {}\n",
    "\n",
    "for key,val in scan_dictionary.items():\n",
    "    if not val in scan_groups:\n",
    "        scan_groups[val] = []\n",
    "    scan_groups[val].append(key)\n",
    "print(f\"{len(scan_groups)} scan_variables over {len(scan_dictionary)} variable scans\")"
   ]
  },
  {
   "cell_type": "code",
   "execution_count": 49,
   "id": "4e86f0ea-d1ac-4286-999b-dc78b6f402f5",
   "metadata": {},
   "outputs": [],
   "source": [
    "f = h5py.File(os.path.join(results, fnames[1]))\n",
    "rid = f['rid'][()]\n",
    "h5_archive_and_datasets_to_locals(f, parent_locals=locals(), quiet=True)"
   ]
  },
  {
   "cell_type": "code",
   "execution_count": 50,
   "id": "54b3e8a1-3b92-47c8-97a6-4dfad698798a",
   "metadata": {},
   "outputs": [
    {
     "name": "stdout",
     "output_type": "stream",
     "text": [
      "loading rate = 0.459\n"
     ]
    },
    {
     "data": {
      "image/png": "[encoded data removed]",
      "text/plain": [
       "<Figure size 640x480 with 1 Axes>"
      ]
     },
     "metadata": {},
     "output_type": "display_data"
    }
   ],
   "source": [
    "plt.hist(photocounts,bins=50)\n",
    "threshold = threshold_otsu(photocounts)\n",
    "plt.axvline(threshold)\n",
    "print(\"loading rate =\",len(photocounts[photocounts > threshold])/len(photocounts))"
   ]
  },
  {
   "cell_type": "code",
   "execution_count": 51,
   "id": "a7d25cc1-0796-4f24-aadb-1030b4e20f33",
   "metadata": {},
   "outputs": [
    {
     "data": {
      "text/plain": [
       "(0.07813145789701055,\n",
       " 0.04785060531273171,\n",
       " 0.06615764849118753,\n",
       " 0.0755240947839825,\n",
       " 0.04533416906861697,\n",
       " 0.038373965501021415)"
      ]
     },
     "execution_count": 51,
     "metadata": {},
     "output_type": "execute_result"
    }
   ],
   "source": [
    "set_point_PD1_AOM_A1, set_point_PD2_AOM_A2, set_point_PD3_AOM_A3, set_point_PD4_AOM_A4, set_point_PD5_AOM_A5, set_point_PD6_AOM_A6"
   ]
  },
  {
   "cell_type": "code",
   "execution_count": 52,
   "id": "218ca2d9-fa81-4d71-818e-e9b7ee13c4b7",
   "metadata": {},
   "outputs": [
    {
     "data": {
      "text/plain": [
       "(7.421226494859214, 7.88001263814208, 0.5464807746105242, -0.2273272178485219)"
      ]
     },
     "execution_count": 52,
     "metadata": {},
     "output_type": "execute_result"
    }
   ],
   "source": [
    "AZ_bottom_volts_MOT, AZ_top_volts_MOT, AX_volts_MOT, AY_volts_MOT"
   ]
  },
  {
   "cell_type": "code",
   "execution_count": null,
   "id": "b31190f9-a15f-42eb-a598-4c24dd222603",
   "metadata": {},
   "outputs": [],
   "source": [
    "[('AZ_bottom_volts_MOT',-0.05*V,0.05*V,'diff'), ('AZ_top_volts_MOT',-0.05*V,0.05*V,'diff'), ('AX_volts_MOT',-0.1*V,0.1*V,'diff'), ('AY_volts_MOT',-0.1*V,0.1*V,'diff'), ('set_point_PD1_AOM_A1',0.9,1.2,'perc'), ('set_point_PD2_AOM_A2',0.9,1.2,'perc'), ('set_point_PD3_AOM_A3',0.9,1.2,'perc'), ('set_point_PD4_AOM_A4',0.9,1.2,'perc'), ('set_point_PD5_AOM_A5',0.9,1.2,'perc'), ('set_point_PD6_AOM_A6',0.9,1.2,'perc')]"
   ]
  },
  {
   "cell_type": "markdown",
   "id": "be127e8e-4268-4cba-a8d5-a466f7538d60",
   "metadata": {},
   "source": [
    "## 2024.09.10"
   ]
  },
  {
   "cell_type": "markdown",
   "id": "e5d21827-88a1-477f-83b5-99963b969c97",
   "metadata": {},
   "source": [
    "### checking settings used for mediocre loading with 300 ms"
   ]
  },
  {
   "cell_type": "code",
   "execution_count": 40,
   "id": "9cc5dff7-14a5-4c76-bf63-13094709012d",
   "metadata": {},
   "outputs": [
    {
     "name": "stdout",
     "output_type": "stream",
     "text": [
      "found 62 files\n",
      "file 0 (C:\\Networking Experiment\\artiq codes\\artiq-master\\results\\2024-09-10\\11\\000017250-ExperimentCycler.h5), size = 93 KB\n",
      "file 1 (C:\\Networking Experiment\\artiq codes\\artiq-master\\results\\2024-09-10\\11\\000017251-ExperimentCycler.h5), size = 91 KB\n",
      "file 2 (C:\\Networking Experiment\\artiq codes\\artiq-master\\results\\2024-09-10\\11\\000017252-ExperimentCycler.h5), size = 93 KB\n",
      "file 3 (C:\\Networking Experiment\\artiq codes\\artiq-master\\results\\2024-09-10\\11\\000017253-ExperimentCycler.h5), size = 91 KB\n",
      "file 4 (C:\\Networking Experiment\\artiq codes\\artiq-master\\results\\2024-09-10\\12\\000017254-ExperimentCycler.h5), size = 105 KB\n",
      "file 6 (C:\\Networking Experiment\\artiq codes\\artiq-master\\results\\2024-09-10\\12\\000017255-ExperimentCycler.h5), size = 84 KB\n",
      "file 7 (C:\\Networking Experiment\\artiq codes\\artiq-master\\results\\2024-09-10\\12\\000017256-ExperimentCycler.h5), size = 435 KB\n",
      "file 9 (C:\\Networking Experiment\\artiq codes\\artiq-master\\results\\2024-09-10\\13\\000017257-ExperimentCycler.h5), size = 89 KB\n",
      "file 10 (C:\\Networking Experiment\\artiq codes\\artiq-master\\results\\2024-09-10\\13\\000017258-ExperimentCycler.h5), size = 89 KB\n",
      "file 11 (C:\\Networking Experiment\\artiq codes\\artiq-master\\results\\2024-09-10\\13\\000017259-ExperimentCycler.h5), size = 89 KB\n",
      "file 12 (C:\\Networking Experiment\\artiq codes\\artiq-master\\results\\2024-09-10\\13\\000017260-ExperimentCycler.h5), size = 89 KB\n",
      "file 13 (C:\\Networking Experiment\\artiq codes\\artiq-master\\results\\2024-09-10\\13\\000017261-ExperimentCycler.h5), size = 89 KB\n",
      "file 14 (C:\\Networking Experiment\\artiq codes\\artiq-master\\results\\2024-09-10\\13\\000017262-ExperimentCycler.h5), size = 89 KB\n",
      "file 15 (C:\\Networking Experiment\\artiq codes\\artiq-master\\results\\2024-09-10\\13\\000017263-ExperimentCycler.h5), size = 118 KB\n",
      "file 17 (C:\\Networking Experiment\\artiq codes\\artiq-master\\results\\2024-09-10\\13\\000017264-ExperimentCycler.h5), size = 96 KB\n",
      "file 18 (C:\\Networking Experiment\\artiq codes\\artiq-master\\results\\2024-09-10\\13\\000017265-ExperimentCycler.h5), size = 113 KB\n",
      "file 20 (C:\\Networking Experiment\\artiq codes\\artiq-master\\results\\2024-09-10\\13\\000017266-ExperimentCycler.h5), size = 91 KB\n",
      "file 21 (C:\\Networking Experiment\\artiq codes\\artiq-master\\results\\2024-09-10\\13\\000017267-ExperimentCycler.h5), size = 111 KB\n",
      "file 23 (C:\\Networking Experiment\\artiq codes\\artiq-master\\results\\2024-09-10\\13\\000017268-ExperimentCycler.h5), size = 98 KB\n",
      "file 24 (C:\\Networking Experiment\\artiq codes\\artiq-master\\results\\2024-09-10\\13\\000017269-ExperimentCycler.h5), size = 102 KB\n",
      "file 26 (C:\\Networking Experiment\\artiq codes\\artiq-master\\results\\2024-09-10\\13\\000017270-ExperimentCycler.h5), size = 91 KB\n",
      "file 27 (C:\\Networking Experiment\\artiq codes\\artiq-master\\results\\2024-09-10\\13\\000017271-ExperimentCycler.h5), size = 93 KB\n",
      "file 28 (C:\\Networking Experiment\\artiq codes\\artiq-master\\results\\2024-09-10\\13\\000017272-ExperimentCycler.h5), size = 93 KB\n",
      "file 29 (C:\\Networking Experiment\\artiq codes\\artiq-master\\results\\2024-09-10\\13\\000017273-ExperimentCycler.h5), size = 91 KB\n",
      "file 30 (C:\\Networking Experiment\\artiq codes\\artiq-master\\results\\2024-09-10\\13\\000017274-ExperimentCycler.h5), size = 208 KB\n",
      "file 32 (C:\\Networking Experiment\\artiq codes\\artiq-master\\results\\2024-09-10\\14\\000017275-ExperimentCycler.h5), size = 91 KB\n",
      "file 33 (C:\\Networking Experiment\\artiq codes\\artiq-master\\results\\2024-09-10\\14\\000017276-ExperimentCycler.h5), size = 91 KB\n",
      "file 34 (C:\\Networking Experiment\\artiq codes\\artiq-master\\results\\2024-09-10\\14\\000017277-ExperimentCycler.h5), size = 91 KB\n",
      "file 35 (C:\\Networking Experiment\\artiq codes\\artiq-master\\results\\2024-09-10\\14\\000017278-ExperimentCycler.h5), size = 89 KB\n",
      "file 36 (C:\\Networking Experiment\\artiq codes\\artiq-master\\results\\2024-09-10\\14\\000017279-ExperimentCycler.h5), size = 89 KB\n",
      "file 37 (C:\\Networking Experiment\\artiq codes\\artiq-master\\results\\2024-09-10\\14\\000017280-ExperimentCycler.h5), size = 86 KB\n",
      "file 38 (C:\\Networking Experiment\\artiq codes\\artiq-master\\results\\2024-09-10\\14\\000017281-ExperimentCycler.h5), size = 84 KB\n",
      "file 39 (C:\\Networking Experiment\\artiq codes\\artiq-master\\results\\2024-09-10\\14\\000017282-ExperimentCycler.h5), size = 91 KB\n",
      "file 40 (C:\\Networking Experiment\\artiq codes\\artiq-master\\results\\2024-09-10\\14\\000017283-ExperimentCycler.h5), size = 182 KB\n",
      "file 42 (C:\\Networking Experiment\\artiq codes\\artiq-master\\results\\2024-09-10\\14\\000017284-ExperimentCycler.h5), size = 86 KB\n",
      "file 43 (C:\\Networking Experiment\\artiq codes\\artiq-master\\results\\2024-09-10\\14\\000017285-ExperimentCycler.h5), size = 110 KB\n",
      "file 45 (C:\\Networking Experiment\\artiq codes\\artiq-master\\results\\2024-09-10\\14\\000017286-ExperimentCycler.h5), size = 154 KB\n",
      "file 47 (C:\\Networking Experiment\\artiq codes\\artiq-master\\results\\2024-09-10\\14\\000017287-ExperimentCycler.h5), size = 117 KB\n",
      "file 49 (C:\\Networking Experiment\\artiq codes\\artiq-master\\results\\2024-09-10\\14\\000017288-ExperimentCycler.h5), size = 109 KB\n",
      "file 51 (C:\\Networking Experiment\\artiq codes\\artiq-master\\results\\2024-09-10\\14\\000017290-ExperimentCycler.h5), size = 99 KB\n",
      "file 52 (C:\\Networking Experiment\\artiq codes\\artiq-master\\results\\2024-09-10\\14\\000017292-ExperimentCycler.h5), size = 259 KB\n",
      "file 54 (C:\\Networking Experiment\\artiq codes\\artiq-master\\results\\2024-09-10\\16\\000017296-ExperimentCycler.h5), size = 94 KB\n",
      "file 55 (C:\\Networking Experiment\\artiq codes\\artiq-master\\results\\2024-09-10\\16\\000017297-ExperimentCycler.h5), size = 93 KB\n",
      "file 56 (C:\\Networking Experiment\\artiq codes\\artiq-master\\results\\2024-09-10\\16\\000017298-ExperimentCycler.h5), size = 134 KB\n",
      "file 58 (C:\\Networking Experiment\\artiq codes\\artiq-master\\results\\2024-09-10\\16\\000017300-ExperimentCycler.h5), size = 121 KB\n",
      "file 60 (C:\\Networking Experiment\\artiq codes\\artiq-master\\results\\2024-09-10\\16\\000017305-ExperimentCycler.h5), size = 147 KB\n",
      "skipped 16 redundant files\n",
      "0 scan_variables over 0 variable scans\n"
     ]
    }
   ],
   "source": [
    "fnames = get_files_by_criteria(date_filters=[\"2024-09-10\"], # only find files from these date directories\n",
    "                               name_filters=[\"Cycler\"], # only find files containing all these strings\n",
    "                               condition=lambda filename: True, # use this to filter by experiment parameters, like this: lambda filename: np.bool_(h5py.File(filename)['datasets']['set_current_coil_volts_at_finish'])\n",
    "                               start_dir=results,\n",
    "                               include_path=True, # only return the name of the file, not the full path\n",
    "                               print_filenames=True\n",
    ")\n",
    "\n",
    "print(f\"found {len(fnames)} files\")\n",
    "rid_list = [] \n",
    "\n",
    "scan_dictionary = {}\n",
    "for i,f in enumerate(fnames):\n",
    "    try:\n",
    "        file = h5py.File(os.path.join(results, f))\n",
    "        rid = file['rid'][()]\n",
    "        if rid not in rid_list:\n",
    "            rid_list.append(rid)\n",
    "            ds = file['datasets']\n",
    "            if \"GeneralVariableScan\" in f:\n",
    "                try:\n",
    "                    scan_var1 = str_from_h5(ds['scan_variable1_name'])\n",
    "                    scan_str = scan_var1\n",
    "                    if str_from_h5(ds['scan_variable2_name']) != '':\n",
    "                        scan_str += \", \" +str_from_h5(ds['scan_variable2_name'])\n",
    "                    print(f\"file {i} ({f}) scanned over \"+scan_str)\n",
    "                    scan_dictionary[f] = scan_var1\n",
    "                except:\n",
    "                    print(f\"oops... something wrong with {f}\")\n",
    "            else:\n",
    "                print(f\"file {i} ({f}), size = {os.path.getsize(f)/1000:.0f} KB\")\n",
    "    except OSError:\n",
    "        pass # if rid wasn't in the file, its corrupt\n",
    "    finally:\n",
    "        file.close()\n",
    "print(f\"skipped {len(fnames)-len(rid_list)} redundant files\")\n",
    "scan_groups = {}\n",
    "\n",
    "for key,val in scan_dictionary.items():\n",
    "    if not val in scan_groups:\n",
    "        scan_groups[val] = []\n",
    "    scan_groups[val].append(key)\n",
    "print(f\"{len(scan_groups)} scan_variables over {len(scan_dictionary)} variable scans\")"
   ]
  },
  {
   "cell_type": "markdown",
   "id": "addcabd8-1582-4bd6-8826-9e41fa70786d",
   "metadata": {},
   "source": [
    "## 2024.09.06"
   ]
  },
  {
   "cell_type": "markdown",
   "id": "fa06997f-5ebf-4046-9bd1-9f4c180ca92e",
   "metadata": {},
   "source": [
    "### checking settings used for first clear microwave Rabi oscillation"
   ]
  },
  {
   "cell_type": "code",
   "execution_count": 36,
   "id": "11f8b627-c46e-474e-9e3e-3742c815f749",
   "metadata": {},
   "outputs": [
    {
     "name": "stdout",
     "output_type": "stream",
     "text": [
      "found 34 files\n",
      "file 0 (C:\\Networking Experiment\\artiq codes\\artiq-master\\results\\2024-08-23\\10\\000016861-GeneralVariableScan.h5) scanned over AX_volts_OP\n",
      "file 2 (C:\\Networking Experiment\\artiq codes\\artiq-master\\results\\2024-08-23\\10\\000016862-GeneralVariableScan.h5) scanned over p_D1_pumping_SP\n",
      "file 4 (C:\\Networking Experiment\\artiq codes\\artiq-master\\results\\2024-08-23\\11\\000016865-GeneralVariableScan.h5) scanned over dummy_variable\n",
      "file 6 (C:\\Networking Experiment\\artiq codes\\artiq-master\\results\\2024-08-23\\11\\000016867-GeneralVariableScan.h5) scanned over dummy_variable\n",
      "file 7 (C:\\Networking Experiment\\artiq codes\\artiq-master\\results\\2024-08-23\\11\\000016869-GeneralVariableScan.h5) scanned over dummy_variable\n",
      "file 8 (C:\\Networking Experiment\\artiq codes\\artiq-master\\results\\2024-08-23\\11\\000016871-GeneralVariableScan.h5) scanned over dummy_variable\n",
      "file 9 (C:\\Networking Experiment\\artiq codes\\artiq-master\\results\\2024-08-23\\11\\000016872-GeneralVariableScan.h5) scanned over p_D1_pumping_SP\n",
      "file 10 (C:\\Networking Experiment\\artiq codes\\artiq-master\\results\\2024-08-23\\11\\000016874-GeneralVariableScan.h5) scanned over p_D1_pumping_SP\n",
      "file 12 (C:\\Networking Experiment\\artiq codes\\artiq-master\\results\\2024-08-23\\12\\000016876-GeneralVariableScan.h5) scanned over f_microwaves_dds\n",
      "file 14 (C:\\Networking Experiment\\artiq codes\\artiq-master\\results\\2024-08-23\\13\\000016880-GeneralVariableScan.h5) scanned over t_microwave_pulse\n",
      "file 16 (C:\\Networking Experiment\\artiq codes\\artiq-master\\results\\2024-08-23\\13\\000016881-GeneralVariableScan.h5) scanned over f_microwaves_dds\n",
      "file 18 (C:\\Networking Experiment\\artiq codes\\artiq-master\\results\\2024-08-23\\14\\000016882-GeneralVariableScan.h5) scanned over f_microwaves_dds\n",
      "file 20 (C:\\Networking Experiment\\artiq codes\\artiq-master\\results\\2024-08-23\\15\\000016883-GeneralVariableScan.h5) scanned over f_microwaves_dds\n",
      "file 22 (C:\\Networking Experiment\\artiq codes\\artiq-master\\results\\2024-08-23\\15\\000016884-GeneralVariableScan.h5) scanned over f_microwaves_dds\n",
      "file 24 (C:\\Networking Experiment\\artiq codes\\artiq-master\\results\\2024-08-23\\16\\000016885-GeneralVariableScan.h5) scanned over f_microwaves_dds\n",
      "file 26 (C:\\Networking Experiment\\artiq codes\\artiq-master\\results\\2024-08-23\\17\\000016886-GeneralVariableScan.h5) scanned over t_microwave_pulse\n",
      "file 28 (C:\\Networking Experiment\\artiq codes\\artiq-master\\results\\2024-08-23\\17\\000016888-GeneralVariableScan.h5) scanned over t_microwave_pulse\n",
      "file 32 (C:\\Networking Experiment\\artiq codes\\artiq-master\\results\\2024-08-23\\18\\000016890-GeneralVariableScan.h5) scanned over t_microwave_pulse\n",
      "skipped 15 redundant files\n",
      "5 scan_variables over 18 variable scans\n"
     ]
    }
   ],
   "source": [
    "fnames = get_files_by_criteria(date_filters=[\"2024-08-23\"], # only find files from these date directories\n",
    "                               name_filters=[\"GeneralVariable\"], # only find files containing all these strings\n",
    "                               condition=lambda filename: True, # use this to filter by experiment parameters, like this: lambda filename: np.bool_(h5py.File(filename)['datasets']['set_current_coil_volts_at_finish'])\n",
    "                               start_dir=results,\n",
    "                               include_path=True, # only return the name of the file, not the full path\n",
    "                               print_filenames=True\n",
    ")\n",
    "\n",
    "print(f\"found {len(fnames)} files\")\n",
    "rid_list = [] \n",
    "\n",
    "scan_dictionary = {}\n",
    "for i,f in enumerate(fnames):\n",
    "    try:\n",
    "        file = h5py.File(os.path.join(results, f))\n",
    "        rid = file['rid'][()]\n",
    "        if rid not in rid_list:\n",
    "            rid_list.append(rid)\n",
    "            ds = file['datasets']\n",
    "            if \"GeneralVariableScan\" in f:\n",
    "                try:\n",
    "                    scan_var1 = str_from_h5(ds['scan_variable1_name'])\n",
    "                    scan_str = scan_var1\n",
    "                    if str_from_h5(ds['scan_variable2_name']) != '':\n",
    "                        scan_str += \", \" +str_from_h5(ds['scan_variable2_name'])\n",
    "                    print(f\"file {i} ({f}) scanned over \"+scan_str)\n",
    "                    scan_dictionary[f] = scan_var1\n",
    "                except:\n",
    "                    print(f\"oops... something wrong with {f}\")\n",
    "    except OSError:\n",
    "        pass # if rid wasn't in the file, its corrupt\n",
    "    finally:\n",
    "        file.close()\n",
    "print(f\"skipped {len(fnames)-len(rid_list)} redundant files\")\n",
    "scan_groups = {}\n",
    "\n",
    "for key,val in scan_dictionary.items():\n",
    "    if not val in scan_groups:\n",
    "        scan_groups[val] = []\n",
    "    scan_groups[val].append(key)\n",
    "print(f\"{len(scan_groups)} scan_variables over {len(scan_dictionary)} variable scans\")"
   ]
  },
  {
   "cell_type": "code",
   "execution_count": 38,
   "id": "1e7404bc-6a2a-4d67-9c00-7549febb1934",
   "metadata": {},
   "outputs": [
    {
     "data": {
      "text/plain": [
       "2.0"
      ]
     },
     "execution_count": 38,
     "metadata": {},
     "output_type": "execute_result"
    }
   ],
   "source": [
    "f = h5py.File(os.path.join(results, fnames[24])) # frequency scan with biggest dip around -5 kHz\n",
    "rid = f['rid'][()]\n",
    "h5_archive_and_datasets_to_locals(f, parent_locals=locals(), quiet=True)\n",
    "\n",
    "AY_volts_OP"
   ]
  },
  {
   "cell_type": "markdown",
   "id": "68cdffea-a79d-44bc-9fdd-b009a487be11",
   "metadata": {},
   "source": [
    "## 2024.08.27"
   ]
  },
  {
   "cell_type": "markdown",
   "id": "74b93950-3897-4af4-998b-a4b756161db4",
   "metadata": {},
   "source": [
    "### old settings that gave good atom histograms"
   ]
  },
  {
   "cell_type": "code",
   "execution_count": 60,
   "id": "b7e1b568-dee1-4d57-b833-233f676f7589",
   "metadata": {},
   "outputs": [
    {
     "name": "stdout",
     "output_type": "stream",
     "text": [
      "skipping C:\\Networking Experiment\\artiq codes\\artiq-master\\results\\2024-01-25\\13\\000009993-GeneralVariableScan.h5, which is corrupt\n",
      "skipping C:\\Networking Experiment\\artiq codes\\artiq-master\\results\\2024-04-26\\21\\000012566-GeneralVariableScan_optical_pumping_scan_over_t_pumping.h5, which is corrupt\n",
      "skipping C:\\Networking Experiment\\artiq codes\\artiq-master\\results\\2024-04-27\\14\\000012597-GeneralVariableScan_optical_pumping_scan_over_t_BA_chop_period.h5, which is corrupt\n",
      "skipping C:\\Networking Experiment\\artiq codes\\artiq-master\\results\\2024-05-03\\13\\000012951-GeneralVariableScan_single_photon_scan_over_dummy_variable.h5, which is corrupt\n",
      "skipping C:\\Networking Experiment\\artiq codes\\artiq-master\\results\\2024-05-06\\11\\000013003-GeneralVariableScan_single_photon_scan_over_dummy_variable.h5, which is corrupt\n",
      "skipping C:\\Networking Experiment\\artiq codes\\artiq-master\\results\\2024-05-29\\15\\000014274-GeneralVariableScan_optical_pumping_scan_over_t_depumping.h5, which is corrupt\n",
      "skipping C:\\Networking Experiment\\artiq codes\\artiq-master\\results\\2024-05-31\\10\\000014381-GeneralVariableScan_optical_pumping_scan_over_AX_volts_OP_and_AY_volts_OP.h5, which is corrupt\n",
      "skipping C:\\Networking Experiment\\artiq codes\\artiq-master\\results\\2024-06-04\\13\\000014439-GeneralVariableScan_microwave_Rabi_scan_over_f_microwaves_dds.h5, which is corrupt\n",
      "skipping C:\\Networking Experiment\\artiq codes\\artiq-master\\results\\2024-06-05\\18\\000014499-GeneralVariableScan_optical_pumping_scan_over_AZ_top_volts_OP.h5, which is corrupt\n",
      "skipping C:\\Networking Experiment\\artiq codes\\artiq-master\\results\\2024-06-06\\21\\000014590-GeneralVariableScan_microwave_Rabi_scan_over_f_microwaves.h5, which is corrupt\n",
      "skipping C:\\Networking Experiment\\artiq codes\\artiq-master\\results\\2024-06-26\\12\\000015331-GeneralVariableScan_microwave_Rabi_scan_over_f_microwaves_dds.h5, which is corrupt\n",
      "skipping C:\\Networking Experiment\\artiq codes\\artiq-master\\results\\2024-07-01\\10\\000015470-GeneralVariableScan_microwave_Rabi_scan_over_f_microwaves_dds.h5, which is corrupt\n",
      "skipping C:\\Networking Experiment\\artiq codes\\artiq-master\\results\\2024-07-01\\15\\000015479-GeneralVariableScan_microwave_Rabi_scan_over_AZ_top_volts_OP.h5, which is corrupt\n"
     ]
    },
    {
     "ename": "KeyboardInterrupt",
     "evalue": "",
     "output_type": "error",
     "traceback": [
      "\u001b[1;31m---------------------------------------------------------------------------\u001b[0m",
      "\u001b[1;31mKeyboardInterrupt\u001b[0m                         Traceback (most recent call last)",
      "Cell \u001b[1;32mIn[60], line 1\u001b[0m\n\u001b[1;32m----> 1\u001b[0m fnames \u001b[38;5;241m=\u001b[39m \u001b[43mget_files_by_criteria\u001b[49m\u001b[43m(\u001b[49m\u001b[43mdate_filters\u001b[49m\u001b[38;5;241;43m=\u001b[39;49m\u001b[43m[\u001b[49m\u001b[38;5;124;43m\"\u001b[39;49m\u001b[38;5;124;43m2024-0\u001b[39;49m\u001b[38;5;124;43m\"\u001b[39;49m\u001b[43m]\u001b[49m\u001b[43m,\u001b[49m\u001b[43m \u001b[49m\u001b[38;5;66;43;03m# only find files from these date directories\u001b[39;49;00m\n\u001b[0;32m      2\u001b[0m \u001b[43m                               \u001b[49m\u001b[43mname_filters\u001b[49m\u001b[38;5;241;43m=\u001b[39;49m\u001b[43m[\u001b[49m\u001b[38;5;124;43m\"\u001b[39;49m\u001b[38;5;124;43mGeneralVariable\u001b[39;49m\u001b[38;5;124;43m\"\u001b[39;49m\u001b[43m]\u001b[49m\u001b[43m,\u001b[49m\u001b[43m \u001b[49m\u001b[38;5;66;43;03m# only find files containing all these strings\u001b[39;49;00m\n\u001b[0;32m      3\u001b[0m \u001b[43m                               \u001b[49m\u001b[43mcondition\u001b[49m\u001b[38;5;241;43m=\u001b[39;49m\u001b[38;5;28;43;01mlambda\u001b[39;49;00m\u001b[43m \u001b[49m\u001b[43mfilename\u001b[49m\u001b[43m:\u001b[49m\u001b[43m \u001b[49m\u001b[38;5;28;43;01mTrue\u001b[39;49;00m\u001b[43m,\u001b[49m\u001b[43m \u001b[49m\u001b[38;5;66;43;03m# use this to filter by experiment parameters, like this: lambda filename: np.bool_(h5py.File(filename)['datasets']['set_current_coil_volts_at_finish'])\u001b[39;49;00m\n\u001b[0;32m      4\u001b[0m \u001b[43m                               \u001b[49m\u001b[43mstart_dir\u001b[49m\u001b[38;5;241;43m=\u001b[39;49m\u001b[43mresults\u001b[49m\u001b[43m,\u001b[49m\n\u001b[0;32m      5\u001b[0m \u001b[43m                               \u001b[49m\u001b[43minclude_path\u001b[49m\u001b[38;5;241;43m=\u001b[39;49m\u001b[38;5;28;43;01mTrue\u001b[39;49;00m\u001b[43m,\u001b[49m\u001b[43m \u001b[49m\u001b[38;5;66;43;03m# only return the name of the file, not the full path\u001b[39;49;00m\n\u001b[0;32m      6\u001b[0m \u001b[43m                               \u001b[49m\u001b[43mprint_filenames\u001b[49m\u001b[38;5;241;43m=\u001b[39;49m\u001b[38;5;28;43;01mTrue\u001b[39;49;00m\n\u001b[0;32m      7\u001b[0m \u001b[43m)\u001b[49m\n\u001b[0;32m      9\u001b[0m \u001b[38;5;28mprint\u001b[39m(\u001b[38;5;124mf\u001b[39m\u001b[38;5;124m\"\u001b[39m\u001b[38;5;124mfound \u001b[39m\u001b[38;5;132;01m{\u001b[39;00m\u001b[38;5;28mlen\u001b[39m(fnames)\u001b[38;5;132;01m}\u001b[39;00m\u001b[38;5;124m files\u001b[39m\u001b[38;5;124m\"\u001b[39m)\n\u001b[0;32m     10\u001b[0m rid_list \u001b[38;5;241m=\u001b[39m [] \n",
      "File \u001b[1;32mD:\\Networking Exp Data\\Single atom characterization\\..\\h5_data_utilities.py:37\u001b[0m, in \u001b[0;36mget_files_by_criteria\u001b[1;34m(date_filters, name_filters, condition, start_dir, include_path, print_filenames)\u001b[0m\n\u001b[0;32m     35\u001b[0m filename \u001b[38;5;241m=\u001b[39m os\u001b[38;5;241m.\u001b[39mpath\u001b[38;5;241m.\u001b[39mjoin(root, name)\n\u001b[0;32m     36\u001b[0m \u001b[38;5;28;01mtry\u001b[39;00m:\n\u001b[1;32m---> 37\u001b[0m     \u001b[43mh5py\u001b[49m\u001b[38;5;241;43m.\u001b[39;49m\u001b[43mFile\u001b[49m\u001b[43m(\u001b[49m\u001b[43mfilename\u001b[49m\u001b[43m)\u001b[49m\n\u001b[0;32m     38\u001b[0m     \u001b[38;5;28;01mif\u001b[39;00m condition(filename):\n\u001b[0;32m     39\u001b[0m         \u001b[38;5;28;01mif\u001b[39;00m \u001b[38;5;129;01mnot\u001b[39;00m include_path:\n",
      "\u001b[1;31mKeyboardInterrupt\u001b[0m: "
     ]
    }
   ],
   "source": [
    "fnames = get_files_by_criteria(date_filters=[\"2024/0\"] #[\"2024-0\"], # only find files from these date directories\n",
    "                               name_filters=[\"GeneralVariable\"], # only find files containing all these strings\n",
    "                               condition=lambda filename: True, # use this to filter by experiment parameters, like this: lambda filename: np.bool_(h5py.File(filename)['datasets']['set_current_coil_volts_at_finish'])\n",
    "                               start_dir=results,\n",
    "                               include_path=True, # only return the name of the file, not the full path\n",
    "                               print_filenames=True\n",
    ")\n",
    "\n",
    "print(f\"found {len(fnames)} files\")\n",
    "rid_list = [] \n",
    "\n",
    "scan_dictionary = {}\n",
    "for i,f in enumerate(fnames):\n",
    "    try:\n",
    "        file = h5py.File(os.path.join(results, f))\n",
    "        rid = file['rid'][()]\n",
    "        if rid not in rid_list:\n",
    "            rid_list.append(rid)\n",
    "            ds = file['datasets']\n",
    "            if \"GeneralVariableScan\" in f:\n",
    "                try:\n",
    "                    scan_var1 = str_from_h5(ds['scan_variable1_name'])\n",
    "                    scan_str = scan_var1\n",
    "                    if str_from_h5(ds['scan_variable2_name']) != '':\n",
    "                        scan_str += \", \" +str_from_h5(ds['scan_variable2_name'])\n",
    "                    print(f\"file {i} ({f}) scanned over \"+scan_str)\n",
    "                    scan_dictionary[f] = scan_var1\n",
    "                except:\n",
    "                    print(f\"oops... something wrong with {f}\")\n",
    "    except OSError:\n",
    "        pass # if rid wasn't in the file, its corrupt\n",
    "    finally:\n",
    "        file.close()\n",
    "print(f\"skipped {len(fnames)-len(rid_list)} redundant files\")\n",
    "scan_groups = {}\n",
    "\n",
    "for key,val in scan_dictionary.items():\n",
    "    if not val in scan_groups:\n",
    "        scan_groups[val] = []\n",
    "    scan_groups[val].append(key)\n",
    "print(f\"{len(scan_groups)} scan_variables over {len(scan_dictionary)} variable scans\")"
   ]
  },
  {
   "cell_type": "code",
   "execution_count": null,
   "id": "4db9e82f-a2c8-40b0-962d-391628781961",
   "metadata": {},
   "outputs": [],
   "source": [
    "f = h5py.File(os.path.join(results, fnames[1]))\n",
    "rid = f['rid'][()]\n",
    "h5_archive_and_datasets_to_locals(f, parent_locals=locals(), quiet=True)"
   ]
  },
  {
   "cell_type": "code",
   "execution_count": null,
   "id": "de69254f-fbd3-4ed5-a074-edd374f500af",
   "metadata": {},
   "outputs": [],
   "source": [
    "plt.hist(photocounts,bins=50)\n",
    "threshold = threshold_otsu(photocounts)\n",
    "plt.axvline(threshold)\n",
    "print(\"loading rate =\",len(photocounts[photocounts > threshold])/len(photocounts))"
   ]
  },
  {
   "cell_type": "code",
   "execution_count": 47,
   "id": "81b52c35-49db-497b-97b4-27a0b9c01103",
   "metadata": {},
   "outputs": [
    {
     "ename": "KeyError",
     "evalue": "\"Unable to synchronously open object (object 'cost' doesn't exist)\"",
     "output_type": "error",
     "traceback": [
      "\u001b[1;31m---------------------------------------------------------------------------\u001b[0m",
      "\u001b[1;31mKeyError\u001b[0m                                  Traceback (most recent call last)",
      "Cell \u001b[1;32mIn[47], line 17\u001b[0m\n\u001b[0;32m     14\u001b[0m \u001b[38;5;28;01mfor\u001b[39;00m fname \u001b[38;5;129;01min\u001b[39;00m fnames:\n\u001b[0;32m     16\u001b[0m     ds \u001b[38;5;241m=\u001b[39m h5py\u001b[38;5;241m.\u001b[39mFile(os\u001b[38;5;241m.\u001b[39mpath\u001b[38;5;241m.\u001b[39mjoin(results, fname))[\u001b[38;5;124m'\u001b[39m\u001b[38;5;124mdatasets\u001b[39m\u001b[38;5;124m'\u001b[39m]\n\u001b[1;32m---> 17\u001b[0m     mincost \u001b[38;5;241m=\u001b[39m \u001b[38;5;28mmin\u001b[39m(\u001b[43mds\u001b[49m\u001b[43m[\u001b[49m\u001b[38;5;124;43m'\u001b[39;49m\u001b[38;5;124;43mcost\u001b[39;49m\u001b[38;5;124;43m'\u001b[39;49m\u001b[43m]\u001b[49m[()])\n\u001b[0;32m     18\u001b[0m     \u001b[38;5;28;01mif\u001b[39;00m mincost \u001b[38;5;241m<\u001b[39m \u001b[38;5;241m0\u001b[39m:\n\u001b[0;32m     19\u001b[0m         best_cost\u001b[38;5;241m.\u001b[39mappend(mincost)\n",
      "File \u001b[1;32mh5py\\_objects.pyx:54\u001b[0m, in \u001b[0;36mh5py._objects.with_phil.wrapper\u001b[1;34m()\u001b[0m\n",
      "File \u001b[1;32mh5py\\_objects.pyx:55\u001b[0m, in \u001b[0;36mh5py._objects.with_phil.wrapper\u001b[1;34m()\u001b[0m\n",
      "File \u001b[1;32m~\\.virtualenvs\\Networking_Exp_Data-0oRq_J3c\\lib\\site-packages\\h5py\\_hl\\group.py:357\u001b[0m, in \u001b[0;36mGroup.__getitem__\u001b[1;34m(self, name)\u001b[0m\n\u001b[0;32m    355\u001b[0m         \u001b[38;5;28;01mraise\u001b[39;00m \u001b[38;5;167;01mValueError\u001b[39;00m(\u001b[38;5;124m\"\u001b[39m\u001b[38;5;124mInvalid HDF5 object reference\u001b[39m\u001b[38;5;124m\"\u001b[39m)\n\u001b[0;32m    356\u001b[0m \u001b[38;5;28;01melif\u001b[39;00m \u001b[38;5;28misinstance\u001b[39m(name, (\u001b[38;5;28mbytes\u001b[39m, \u001b[38;5;28mstr\u001b[39m)):\n\u001b[1;32m--> 357\u001b[0m     oid \u001b[38;5;241m=\u001b[39m \u001b[43mh5o\u001b[49m\u001b[38;5;241;43m.\u001b[39;49m\u001b[43mopen\u001b[49m\u001b[43m(\u001b[49m\u001b[38;5;28;43mself\u001b[39;49m\u001b[38;5;241;43m.\u001b[39;49m\u001b[43mid\u001b[49m\u001b[43m,\u001b[49m\u001b[43m \u001b[49m\u001b[38;5;28;43mself\u001b[39;49m\u001b[38;5;241;43m.\u001b[39;49m\u001b[43m_e\u001b[49m\u001b[43m(\u001b[49m\u001b[43mname\u001b[49m\u001b[43m)\u001b[49m\u001b[43m,\u001b[49m\u001b[43m \u001b[49m\u001b[43mlapl\u001b[49m\u001b[38;5;241;43m=\u001b[39;49m\u001b[38;5;28;43mself\u001b[39;49m\u001b[38;5;241;43m.\u001b[39;49m\u001b[43m_lapl\u001b[49m\u001b[43m)\u001b[49m\n\u001b[0;32m    358\u001b[0m \u001b[38;5;28;01melse\u001b[39;00m:\n\u001b[0;32m    359\u001b[0m     \u001b[38;5;28;01mraise\u001b[39;00m \u001b[38;5;167;01mTypeError\u001b[39;00m(\u001b[38;5;124m\"\u001b[39m\u001b[38;5;124mAccessing a group is done with bytes or str, \u001b[39m\u001b[38;5;124m\"\u001b[39m\n\u001b[0;32m    360\u001b[0m                     \u001b[38;5;124m\"\u001b[39m\u001b[38;5;124mnot \u001b[39m\u001b[38;5;132;01m{}\u001b[39;00m\u001b[38;5;124m\"\u001b[39m\u001b[38;5;241m.\u001b[39mformat(\u001b[38;5;28mtype\u001b[39m(name)))\n",
      "File \u001b[1;32mh5py\\_objects.pyx:54\u001b[0m, in \u001b[0;36mh5py._objects.with_phil.wrapper\u001b[1;34m()\u001b[0m\n",
      "File \u001b[1;32mh5py\\_objects.pyx:55\u001b[0m, in \u001b[0;36mh5py._objects.with_phil.wrapper\u001b[1;34m()\u001b[0m\n",
      "File \u001b[1;32mh5py\\h5o.pyx:189\u001b[0m, in \u001b[0;36mh5py.h5o.open\u001b[1;34m()\u001b[0m\n",
      "\u001b[1;31mKeyError\u001b[0m: \"Unable to synchronously open object (object 'cost' doesn't exist)\""
     ]
    }
   ],
   "source": [
    "setpoint1 = []\n",
    "setpoint2 = []\n",
    "setpoint3 = []\n",
    "setpoint4 = []\n",
    "setpoint5 = []\n",
    "setpoint6 = []\n",
    "AZbottom = []\n",
    "AZtop = []\n",
    "AX = []\n",
    "AY = []\n",
    "best_cost = []\n",
    "rid = []\n",
    "\n",
    "for fname in fnames:\n",
    "\n",
    "    ds = h5py.File(os.path.join(results, fname))['datasets']\n",
    "    mincost = min(ds['cost'][()])\n",
    "    if mincost < 0:\n",
    "        best_cost.append(mincost)\n",
    "    \n",
    "        ds = h5py.File(os.path.join(results, fname))['archive']\n",
    "        AZbottom.append(ds['AZ_bottom_volts_MOT'][()])\n",
    "        AZtop.append(ds['AZ_top_volts_MOT'][()])\n",
    "        AX.append(ds['AX_volts_MOT'][()])\n",
    "        AY.append(ds['AY_volts_MOT'][()])\n",
    "    \n",
    "        setpoint1.append(ds['set_point_PD1_AOM_A1'][()])\n",
    "        setpoint2.append(ds['set_point_PD2_AOM_A2'][()])\n",
    "        setpoint3.append(ds['set_point_PD3_AOM_A3'][()])\n",
    "        setpoint4.append(ds['set_point_PD4_AOM_A4'][()])\n",
    "        setpoint5.append(ds['set_point_PD5_AOM_A5'][()])\n",
    "        setpoint6.append(ds['set_point_PD6_AOM_A6'][()])\n",
    "    \n",
    "        rid.append(h5py.File(os.path.join(results, fname))['rid'][()])"
   ]
  },
  {
   "cell_type": "markdown",
   "id": "d8738957-de22-4346-a4f9-bde473113f45",
   "metadata": {},
   "source": [
    "### old settings that gave good atom histograms"
   ]
  },
  {
   "cell_type": "code",
   "execution_count": 29,
   "id": "6577882c-1870-4c22-89bc-f84cf7f53ff0",
   "metadata": {},
   "outputs": [
    {
     "name": "stdout",
     "output_type": "stream",
     "text": [
      "skipping C:\\Networking Experiment\\artiq codes\\artiq-master\\results\\2024-08-27\\11\\000016948-AtomLoadingOptimizerMLOOP.h5, which is corrupt\n",
      "found 95 files\n"
     ]
    }
   ],
   "source": [
    "fnames = get_files_by_criteria(date_filters=[f\"2024-0{x}\" for x in range(5,9)], # only find files from these date directories\n",
    "                               name_filters=[\"MLOOP\"], # only find files containing all these strings\n",
    "                               condition=lambda filename: True, # use this to filter by experiment parameters, like this: lambda filename: np.bool_(h5py.File(filename)['datasets']['set_current_coil_volts_at_finish'])\n",
    "                               start_dir=results,\n",
    "                               include_path=True, # only return the name of the file, not the full path\n",
    "                               print_filenames=True\n",
    ")\n",
    "\n",
    "print(f\"found {len(fnames)} files\")"
   ]
  },
  {
   "cell_type": "code",
   "execution_count": 28,
   "id": "911d5df8-4f02-4917-86a3-98a7d8f403cd",
   "metadata": {},
   "outputs": [],
   "source": [
    "setpoint1 = []\n",
    "setpoint2 = []\n",
    "setpoint3 = []\n",
    "setpoint4 = []\n",
    "setpoint5 = []\n",
    "setpoint6 = []\n",
    "AZbottom = []\n",
    "AZtop = []\n",
    "AX = []\n",
    "AY = []\n",
    "best_cost = []\n",
    "rid = []\n",
    "\n",
    "for fname in fnames:\n",
    "\n",
    "    ds = h5py.File(os.path.join(results, fname))['datasets']\n",
    "    mincost = min(ds['cost'][()])\n",
    "    if mincost < -10: # ignore cases where the optimizer did a terrible job\n",
    "        best_cost.append(mincost)\n",
    "        try:\n",
    "            ds = h5py.File(os.path.join(results, fname))['archive']\n",
    "            AZbottom.append(ds['AZ_bottom_volts_MOT'][()])\n",
    "            AZtop.append(ds['AZ_top_volts_MOT'][()])\n",
    "            AX.append(ds['AX_volts_MOT'][()])\n",
    "            AY.append(ds['AY_volts_MOT'][()])\n",
    "        \n",
    "            setpoint1.append(ds['set_point_PD1_AOM_A1'][()])\n",
    "            setpoint2.append(ds['set_point_PD2_AOM_A2'][()])\n",
    "            setpoint3.append(ds['set_point_PD3_AOM_A3'][()])\n",
    "            setpoint4.append(ds['set_point_PD4_AOM_A4'][()])\n",
    "            setpoint5.append(ds['set_point_PD5_AOM_A5'][()])\n",
    "            setpoint6.append(ds['set_point_PD6_AOM_A6'][()])\n",
    "            rid.append(h5py.File(os.path.join(results, fname))['rid'][()])\n",
    "        except KeyError:\n",
    "            pass"
   ]
  },
  {
   "cell_type": "code",
   "execution_count": 29,
   "id": "971444b7-90b2-4f82-9285-5a230180601d",
   "metadata": {},
   "outputs": [
    {
     "data": {
      "image/png": "[encoded data removed]",
      "text/plain": [
       "<Figure size 1280x960 with 4 Axes>"
      ]
     },
     "metadata": {},
     "output_type": "display_data"
    }
   ],
   "source": [
    "fig,axes = plt.subplots(nrows=4, sharex=True, dpi=200)\n",
    "ax,ax2,ax3,ax4 = axes\n",
    "\n",
    "ax.set_title(\"AtomLoadingOptimizer values over time\")\n",
    "ax.plot(rid, AZbottom, label='AZ bottom')\n",
    "ax.plot(rid, AZtop, label='AZ top')\n",
    "ax2.plot(rid, AX, label='AX')\n",
    "ax2.plot(rid, AY, label='AY')\n",
    "ax.set_ylabel(\"V\")\n",
    "ax2.set_ylabel(\"V\")\n",
    "\n",
    "ax3.plot(rid, setpoint1, label='setpoint AOM A1')\n",
    "ax3.plot(rid, setpoint2, label='setpoint AOM A2')\n",
    "ax3.plot(rid, setpoint3, label='setpoint AOM A3')\n",
    "ax3.plot(rid, setpoint4, label='setpoint AOM A4')\n",
    "ax3.plot(rid, setpoint5, label='setpoint AOM A5')\n",
    "ax3.plot(rid, setpoint6, label='setpoint AOM A6')\n",
    "\n",
    "ax3.set_ylabel(\"setpoint\")\n",
    "\n",
    "ax4.plot(rid, best_cost, label='cost')\n",
    "ax4.set_xlabel('experiment ID')\n",
    "for fudge,ax in zip([0.1,0.2,-0.3,0.2],axes):\n",
    "    ax.legend(loc=(1.05,fudge))\n",
    "    # ax.axvline(13241,ls='--',color='crimson')\n",
    "plt.show()"
   ]
  },
  {
   "cell_type": "markdown",
   "id": "37a13355-0304-4f16-871e-45d4ff8a07ae",
   "metadata": {},
   "source": [
    "## 2024.05.17 comparing optimizer values over time"
   ]
  },
  {
   "cell_type": "code",
   "execution_count": 87,
   "id": "6429f3a1-984f-4efd-8359-69f09d7da2ce",
   "metadata": {},
   "outputs": [
    {
     "name": "stdout",
     "output_type": "stream",
     "text": [
      "found 52 files\n"
     ]
    }
   ],
   "source": [
    "fnames = get_files_by_criteria(date_filters=[\"2024-04\",\"2024-05\"], # only find files from these date directories\n",
    "                               name_filters=[\"MLOOP\"], # only find files containing all these strings\n",
    "                               condition=lambda filename: True, # use this to filter by experiment parameters, like this: lambda filename: np.bool_(h5py.File(filename)['datasets']['set_current_coil_volts_at_finish'])\n",
    "                               start_dir=results,\n",
    "                               include_path=True, # only return the name of the file, not the full path\n",
    "                               print_filenames=True\n",
    ")\n",
    "\n",
    "print(f\"found {len(fnames)} files\")"
   ]
  },
  {
   "cell_type": "code",
   "execution_count": 88,
   "id": "fb09f8bc-887a-4fcb-a96f-eda889054f6b",
   "metadata": {},
   "outputs": [],
   "source": [
    "setpoint1 = []\n",
    "setpoint2 = []\n",
    "setpoint3 = []\n",
    "setpoint4 = []\n",
    "setpoint5 = []\n",
    "setpoint6 = []\n",
    "AZbottom = []\n",
    "AZtop = []\n",
    "AX = []\n",
    "AY = []\n",
    "best_cost = []\n",
    "rid = []\n",
    "\n",
    "for fname in fnames:\n",
    "\n",
    "    ds = h5py.File(os.path.join(results, fname))['datasets']\n",
    "    mincost = min(ds['cost'][()])\n",
    "    if mincost < 0:\n",
    "        best_cost.append(mincost)\n",
    "    \n",
    "        ds = h5py.File(os.path.join(results, fname))['archive']\n",
    "        AZbottom.append(ds['AZ_bottom_volts_MOT'][()])\n",
    "        AZtop.append(ds['AZ_top_volts_MOT'][()])\n",
    "        AX.append(ds['AX_volts_MOT'][()])\n",
    "        AY.append(ds['AY_volts_MOT'][()])\n",
    "    \n",
    "        setpoint1.append(ds['set_point_PD1_AOM_A1'][()])\n",
    "        setpoint2.append(ds['set_point_PD2_AOM_A2'][()])\n",
    "        setpoint3.append(ds['set_point_PD3_AOM_A3'][()])\n",
    "        setpoint4.append(ds['set_point_PD4_AOM_A4'][()])\n",
    "        setpoint5.append(ds['set_point_PD5_AOM_A5'][()])\n",
    "        setpoint6.append(ds['set_point_PD6_AOM_A6'][()])\n",
    "    \n",
    "        rid.append(h5py.File(os.path.join(results, fname))['rid'][()])"
   ]
  },
  {
   "cell_type": "code",
   "execution_count": 89,
   "id": "de974268-1a38-45a9-9af8-423208ebae37",
   "metadata": {},
   "outputs": [
    {
     "data": {
      "image/png": "[encoded data removed]",
      "text/plain": [
       "<Figure size 640x480 with 4 Axes>"
      ]
     },
     "metadata": {},
     "output_type": "display_data"
    }
   ],
   "source": [
    "fig,axes = plt.subplots(nrows=4, sharex=True)\n",
    "ax,ax2,ax3,ax4 = axes\n",
    "\n",
    "ax.set_title(\"AtomLoadingOptimizer values over time\")\n",
    "ax.plot(rid, AZbottom, label='AZ bottom')\n",
    "ax.plot(rid, AZtop, label='AZ top')\n",
    "ax2.plot(rid, AX, label='AX')\n",
    "ax2.plot(rid, AY, label='AY')\n",
    "ax.set_ylabel(\"V\")\n",
    "ax2.set_ylabel(\"V\")\n",
    "\n",
    "ax3.plot(rid, setpoint1, label='setpoint AOM A1')\n",
    "ax3.plot(rid, setpoint2, label='setpoint AOM A2')\n",
    "ax3.plot(rid, setpoint3, label='setpoint AOM A3')\n",
    "ax3.plot(rid, setpoint4, label='setpoint AOM A4')\n",
    "ax3.plot(rid, setpoint5, label='setpoint AOM A5')\n",
    "ax3.plot(rid, setpoint6, label='setpoint AOM A6')\n",
    "\n",
    "ax3.set_ylabel(\"setpoint\")\n",
    "\n",
    "ax4.plot(rid, best_cost, label='cost')\n",
    "ax4.set_xlabel('experiment ID')\n",
    "for fudge,ax in zip([0.1,0.2,-0.3,0.2],axes):\n",
    "    ax.legend(loc=(1.05,fudge))\n",
    "    ax.axvline(13241,ls='--',color='crimson')\n",
    "plt.show()"
   ]
  },
  {
   "cell_type": "code",
   "execution_count": 37,
   "id": "a7c6730b-646b-49ee-8ce8-86c66e76b3ac",
   "metadata": {},
   "outputs": [],
   "source": [
    "ds = h5py.File(os.path.join(results, fnames[0]))['datasets']"
   ]
  },
  {
   "cell_type": "code",
   "execution_count": 40,
   "id": "408014b2-136d-40b3-aecf-47611dbd18cb",
   "metadata": {},
   "outputs": [
    {
     "data": {
      "text/plain": [
       "8.005520751953124"
      ]
     },
     "execution_count": 40,
     "metadata": {},
     "output_type": "execute_result"
    }
   ],
   "source": [
    "ds['AZ_bottom_volts_MOT'][()]"
   ]
  },
  {
   "cell_type": "markdown",
   "id": "0d16d23d-5400-44d2-9826-37dd004e44ca",
   "metadata": {},
   "source": [
    "## 2024.05.10 - 17\n",
    "I lost atom loading after experiment 13241 and I think it was programmatic, but reverting to the main branch which I tested yesterday doesn't bring loading back. So it could be a dataset that got updated in a way that has crippled something.\n",
    "\n",
    "We were able to recover atom loading after a few fixes to the ARTIQ code, as the coils were not always turning on, but also there must have been some real change in the lab, as the coil settings from 5/08 do not give any atom loading. To get atom loading, the Y coil has to change sign and magnitude, corresponding to a change of about 100 mG. along that direction. The other coil values found by MLOOP are similar to those used previously to within 3%."
   ]
  },
  {
   "cell_type": "code",
   "execution_count": 5,
   "id": "57dd5386-7ac6-4fc2-a123-e1c8fa576483",
   "metadata": {
    "jp-MarkdownHeadingCollapsed": true
   },
   "outputs": [
    {
     "name": "stdout",
     "output_type": "stream",
     "text": [
      "found 33 files\n",
      "file 0 (C:\\Networking Experiment\\artiq codes\\artiq-master\\results\\2024-05-10\\07\\000013226-GeneralVariableScan.h5) scanned over dummy_variable\n",
      "file 1 (C:\\Networking Experiment\\artiq codes\\artiq-master\\results\\2024-05-10\\07\\000013227-GeneralVariableScan.h5) scanned over dummy_variable\n",
      "file 2 (C:\\Networking Experiment\\artiq codes\\artiq-master\\results\\2024-05-10\\07\\000013231-GeneralVariableScan.h5) scanned over dummy_variable\n",
      "file 3 (C:\\Networking Experiment\\artiq codes\\artiq-master\\results\\2024-05-10\\07\\000013233-GeneralVariableScan.h5) scanned over dummy_variable\n",
      "file 4 (C:\\Networking Experiment\\artiq codes\\artiq-master\\results\\2024-05-10\\07\\000013233-GeneralVariableScan_atom_loading_scan_over_dummy_variable.h5) scanned over dummy_variable\n",
      "file 5 (C:\\Networking Experiment\\artiq codes\\artiq-master\\results\\2024-05-10\\07\\000013235-GeneralVariableScan.h5) scanned over dummy_variable\n",
      "file 6 (C:\\Networking Experiment\\artiq codes\\artiq-master\\results\\2024-05-10\\07\\000013235-GeneralVariableScan_atom_loading_scan_over_dummy_variable.h5) scanned over dummy_variable\n",
      "file 7 (C:\\Networking Experiment\\artiq codes\\artiq-master\\results\\2024-05-10\\07\\000013238-GeneralVariableScan.h5) scanned over dummy_variable\n",
      "file 8 (C:\\Networking Experiment\\artiq codes\\artiq-master\\results\\2024-05-10\\07\\000013238-GeneralVariableScan_atom_loading_scan_over_dummy_variable.h5) scanned over dummy_variable\n",
      "file 9 (C:\\Networking Experiment\\artiq codes\\artiq-master\\results\\2024-05-10\\07\\000013241-GeneralVariableScan.h5) scanned over dummy_variable\n",
      "file 10 (C:\\Networking Experiment\\artiq codes\\artiq-master\\results\\2024-05-10\\07\\000013241-GeneralVariableScan_atom_loading_scan_over_dummy_variable.h5) scanned over dummy_variable\n",
      "file 11 (C:\\Networking Experiment\\artiq codes\\artiq-master\\results\\2024-05-10\\07\\000013242-GeneralVariableScan_optical_pumping_scan_over_t_pumping.h5) scanned over t_pumping\n",
      "file 12 (C:\\Networking Experiment\\artiq codes\\artiq-master\\results\\2024-05-10\\07\\000013243-GeneralVariableScan.h5) scanned over t_pumping\n",
      "file 13 (C:\\Networking Experiment\\artiq codes\\artiq-master\\results\\2024-05-10\\07\\000013244-GeneralVariableScan.h5) scanned over dummy_variable\n",
      "file 14 (C:\\Networking Experiment\\artiq codes\\artiq-master\\results\\2024-05-10\\07\\000013245-GeneralVariableScan.h5) scanned over dummy_variable\n",
      "file 15 (C:\\Networking Experiment\\artiq codes\\artiq-master\\results\\2024-05-10\\08\\000013247-GeneralVariableScan.h5) scanned over dummy_variable\n",
      "file 16 (C:\\Networking Experiment\\artiq codes\\artiq-master\\results\\2024-05-10\\08\\000013249-GeneralVariableScan.h5) scanned over dummy_variable\n",
      "file 17 (C:\\Networking Experiment\\artiq codes\\artiq-master\\results\\2024-05-10\\08\\000013251-GeneralVariableScan.h5) scanned over dummy_variable\n",
      "file 18 (C:\\Networking Experiment\\artiq codes\\artiq-master\\results\\2024-05-10\\08\\000013253-GeneralVariableScan.h5) scanned over dummy_variable\n",
      "file 19 (C:\\Networking Experiment\\artiq codes\\artiq-master\\results\\2024-05-10\\08\\000013255-GeneralVariableScan.h5) scanned over dummy_variable\n",
      "file 20 (C:\\Networking Experiment\\artiq codes\\artiq-master\\results\\2024-05-10\\08\\000013256-GeneralVariableScan.h5) scanned over dummy_variable\n",
      "file 21 (C:\\Networking Experiment\\artiq codes\\artiq-master\\results\\2024-05-10\\08\\000013261-GeneralVariableScan.h5) scanned over dummy_variable\n",
      "file 22 (C:\\Networking Experiment\\artiq codes\\artiq-master\\results\\2024-05-10\\08\\000013263-GeneralVariableScan.h5) scanned over dummy_variable\n",
      "file 23 (C:\\Networking Experiment\\artiq codes\\artiq-master\\results\\2024-05-10\\08\\000013263-GeneralVariableScan_atom_loading_scan_over_dummy_variable.h5) scanned over dummy_variable\n",
      "file 24 (C:\\Networking Experiment\\artiq codes\\artiq-master\\results\\2024-05-10\\08\\000013264-GeneralVariableScan.h5) scanned over dummy_variable\n",
      "file 25 (C:\\Networking Experiment\\artiq codes\\artiq-master\\results\\2024-05-10\\08\\000013264-GeneralVariableScan_atom_loading_scan_over_dummy_variable.h5) scanned over dummy_variable\n",
      "file 26 (C:\\Networking Experiment\\artiq codes\\artiq-master\\results\\2024-05-10\\08\\000013266-GeneralVariableScan.h5) scanned over dummy_variable\n",
      "file 27 (C:\\Networking Experiment\\artiq codes\\artiq-master\\results\\2024-05-10\\09\\000013269-GeneralVariableScan.h5) scanned over t_blowaway\n",
      "file 28 (C:\\Networking Experiment\\artiq codes\\artiq-master\\results\\2024-05-10\\09\\000013271-GeneralVariableScan.h5) scanned over dummy_variable\n",
      "file 29 (C:\\Networking Experiment\\artiq codes\\artiq-master\\results\\2024-05-10\\09\\000013272-GeneralVariableScan.h5) scanned over dummy_variable\n",
      "file 30 (C:\\Networking Experiment\\artiq codes\\artiq-master\\results\\2024-05-10\\09\\000013275-GeneralVariableScan.h5) scanned over dummy_variable\n",
      "file 31 (C:\\Networking Experiment\\artiq codes\\artiq-master\\results\\2024-05-10\\09\\000013278-GeneralVariableScan.h5) scanned over dummy_variable\n",
      "file 32 (C:\\Networking Experiment\\artiq codes\\artiq-master\\results\\2024-05-10\\09\\000013278-GeneralVariableScan_atom_loading_scan_over_dummy_variable.h5) scanned over dummy_variable\n"
     ]
    }
   ],
   "source": [
    "fnames = get_files_by_criteria(date_filters=[\"2024-05-10\"], # only find files from these date directories\n",
    "                               name_filters=[\"GeneralVariableScan\"], # only find files containing all these strings\n",
    "                               condition=lambda filename: True, # use this to filter by experiment parameters, like this: lambda filename: np.bool_(h5py.File(filename)['datasets']['set_current_coil_volts_at_finish'])\n",
    "                               start_dir=results,\n",
    "                               include_path=True, # only return the name of the file, not the full path\n",
    "                               print_filenames=True\n",
    ")\n",
    "\n",
    "only_show_i_greater_than = -1\n",
    "# only_show_i_greater_than = 18\n",
    "\n",
    "print(f\"found {len(fnames)} files\")\n",
    "for i,f in enumerate(fnames):\n",
    "    if i > only_show_i_greater_than:\n",
    "        try:\n",
    "            ds = h5py.File(os.path.join(results, f))['datasets']\n",
    "            scan_str = str_from_h5(ds['scan_variable1_name'])\n",
    "            if str_from_h5(ds['scan_variable2_name']) != '':\n",
    "                scan_str += \", \" +str_from_h5(ds['scan_variable2_name'])\n",
    "            print(f\"file {i} ({f}) scanned over \"+scan_str)\n",
    "        except:\n",
    "            print(f\"oops... something wrong with {f}\")"
   ]
  },
  {
   "cell_type": "code",
   "execution_count": 4,
   "id": "d93b1c0e-d258-43b7-a68d-b75f90122667",
   "metadata": {
    "collapsed": true,
    "jupyter": {
     "outputs_hidden": true
    }
   },
   "outputs": [
    {
     "name": "stdout",
     "output_type": "stream",
     "text": [
      "AOM_A1_freq = 78480000.0\n",
      "AOM_A2_freq = 78490000.0\n",
      "AOM_A3_freq = 78500000.0\n",
      "AOM_A4_freq = 78510000.0\n",
      "AOM_A5_freq = 78520000.0\n",
      "AOM_A6_freq = 78530000.0\n",
      "AX_volts_MOT = 0.536\n",
      "AX_volts_MOT_MOT_phase2 = 0.419\n",
      "AX_volts_MOT_phase2 = 0.429833740234375\n",
      "AX_volts_OP = 0.15798914968578714\n",
      "AX_volts_PGC = -0.113\n",
      "AX_volts_RO = -0.1132077008299555\n",
      "AX_volts_blowaway = -0.1750847566673611\n",
      "AX_volts_microwave = 0.0\n",
      "AY_volts_MOT = -0.105\n",
      "AY_volts_MOT_MOT_phase2 = 0.255\n",
      "AY_volts_MOT_phase2 = 0.254542236328125\n",
      "AY_volts_OP = -1.403292196481423\n",
      "AY_volts_PGC = 0.5\n",
      "AY_volts_RO = 0.5\n",
      "AY_volts_blowaway = -0.1323212924218066\n",
      "AY_volts_microwave = 0.0\n",
      "AZ_bottom_volts_MOT = 7.503\n",
      "AZ_bottom_volts_MOT_phase2 = 4.88379296875\n",
      "AZ_bottom_volts_OP = 0.00589264863183836\n",
      "AZ_bottom_volts_PGC = -0.5\n",
      "AZ_bottom_volts_RO = -0.5\n",
      "AZ_bottom_volts_blowaway = -0.03565564422059686\n",
      "AZ_bottom_volts_microwave = 0.0\n",
      "AZ_top_volts_MOT = 7.957\n",
      "AZ_top_volts_MOT_MOT_phase2 = 5.405\n",
      "AZ_top_volts_MOT_phase2 = 5.418275146484375\n",
      "AZ_top_volts_OP = -0.09343231647568784\n",
      "AZ_top_volts_PGC = -0.1\n",
      "AZ_top_volts_RO = -0.09999999999999998\n",
      "AZ_top_volts_blowaway = 0.2376022278511552\n",
      "AZ_top_volts_microwave = 0.0\n",
      "FORT_on_at_MOT_start = True\n",
      "Luca_trigger_for_feedback_verification = False\n",
      "MOT_beam_monitor_points = 400\n",
      "aom_feedback_averages = 10\n",
      "aom_feedback_iterations = 15\n",
      "blowaway_light_off = False\n",
      "cooling_setpoint_mW = 0.7\n",
      "cooling_volts_ch = 7\n",
      "detuning_MOT_units_Gamma = -2.555647155812036\n",
      "detuning_PGC_units_Gamma = -5.193734542456719\n",
      "detuning_RO_units_Gamma = -5.193734542456719\n",
      "do_PGC_in_MOT = True\n",
      "dummy_variable = 0.0\n",
      "duty_cycle_FORT = 0.65\n",
      "duty_cycle_OP = 0.35\n",
      "enable_laser_feedback = True\n",
      "f_D1_pumping_SP = 82500000.0\n",
      "f_FORT = 80000000.0\n",
      "f_MOT_RP = 150500000.0\n",
      "f_cooling_DP_MOT = 112000000.0\n",
      "f_cooling_DP_MOT_phase2 = 116000000.0\n",
      "f_cooling_DP_PGC = 120000000.0\n",
      "f_cooling_DP_RO = 120000000.0\n",
      "f_cooling_DP_blowaway = 104250000.0\n",
      "f_cooling_DP_resonant_2_to_3 = 104250000.0\n",
      "f_cooling_RP = 150500000.0\n",
      "f_cooling_SP = 130000000.0\n",
      "f_excitation = 150500000.0\n",
      "f_microwaves = 334682000.0\n",
      "f_microwaves_dds = 334682000.0\n",
      "f_pumping_repump = 345100000.0\n",
      "gate_start_offset_mu = 700\n",
      "gate_switch_offset = 0\n",
      "ignore_first_n_histogram_points = 10\n",
      "microwave_frequency_GHz = 6.834682\n",
      "n_excitation_attempts = 5\n",
      "n_excitation_cycles = 5\n",
      "no_first_shot = False\n",
      "p_AOM_A1 = -11.832056661196049\n",
      "p_AOM_A2 = -12.05996804370054\n",
      "p_AOM_A3 = -12.901144480655464\n",
      "p_AOM_A4 = -6.197163482515018\n",
      "p_AOM_A5 = -14.358048826792773\n",
      "p_AOM_A6 = -10.057707878440132\n",
      "p_AOM_A6_blowaway = 4.0\n",
      "p_D1_pumping_SP = -14.0\n",
      "p_FORT_OP = 0.8\n",
      "p_FORT_PGC = 0.8\n",
      "p_FORT_RO = 0.8\n",
      "p_FORT_blowaway = 0.7\n",
      "p_FORT_default = -4.0\n",
      "p_FORT_holding = 0.8\n",
      "p_FORT_loading = 1.15\n",
      "p_MOT_RP = 3.0\n",
      "p_cooling_DP_MOT = 0.0\n",
      "p_cooling_DP_PGC = 0.9\n",
      "p_cooling_DP_RO = 0.9\n",
      "p_cooling_RP = 3.0\n",
      "p_cooling_SP = -3.5\n",
      "p_excitation = -3.0\n",
      "p_microwaves = -12.0\n",
      "p_pumping_repump = 3.0\n",
      "pumping_light_off = False\n",
      "set_point_FORT_MM = 0.226\n",
      "set_point_PD0_AOM_cooling_DP = 0.784\n",
      "set_point_PD1_AOM_A1 = 0.08\n",
      "set_point_PD2_AOM_A2 = 0.062\n",
      "set_point_PD3_AOM_A3 = 0.072\n",
      "set_point_PD4_AOM_A4 = 0.099\n",
      "set_point_PD5_AOM_A5 = 0.04706573936146263\n",
      "set_point_PD6_AOM_A6 = 0.078\n",
      "set_point_fW_AOM_A1 = 1.8\n",
      "set_point_fW_AOM_A2 = 1.176\n",
      "set_point_fW_AOM_A3 = 2.2\n",
      "set_point_fW_AOM_A4 = 1.664\n",
      "single_atom_counts_per_s = 50000.0\n",
      "single_atom_counts_threshold = 270\n",
      "t_BA_chop_period = 1.2e-06\n",
      "t_FORT_drop = 0.0\n",
      "t_FORT_loading = 0.2\n",
      "t_MOT_MOT_phase2 = 0.5\n",
      "t_MOT_dissipation = 0.02\n",
      "t_MOT_loading = 0.5\n",
      "t_MOT_phase2 = 0.0\n",
      "t_OP_chop_period = 1.5e-06\n",
      "t_PGC_in_MOT = 0.01\n",
      "t_SPCM_exposure = 0.015\n",
      "t_SPCM_first_shot = 0.015\n",
      "t_SPCM_second_shot = 0.015\n",
      "t_UV_pulse = 0.01\n",
      "t_blowaway = 2.9999999999999997e-05\n",
      "t_delay_between_shots = 0.003\n",
      "t_depumping = 0.0\n",
      "t_excitation_pulse = 1.2500000000000002e-07\n",
      "t_exp_trigger = 0.001\n",
      "t_experiment_trigger = 0.001\n",
      "t_microwave_pulse = 0.00019999999999999998\n",
      "t_photon_collection_delay = 1e-09\n",
      "t_photon_collection_time = 1.0000000000000001e-07\n",
      "t_pumping = 9.999999999999999e-06\n",
      "t_test = 0.05\n",
      "control_experiment = False\n",
      "dummy_variable = 0.5\n",
      "iteration = 0\n",
      "n_measurements = 100\n",
      "p_AOM_A1 = -11.902716225723351\n",
      "p_AOM_A2 = -12.125062864743779\n",
      "p_AOM_A3 = -12.962068374280493\n",
      "p_AOM_A4 = -6.291084132466005\n",
      "p_AOM_A5 = -14.33242748328377\n",
      "p_AOM_A6 = -9.968905634416757\n",
      "p_FORT_default = -5.7008224615898095\n"
     ]
    }
   ],
   "source": [
    "i = 10 # 100% retention and 40% loading. right after this was run I lost loading. seems to be programmatic not a lab issue\n",
    "\n",
    "f = h5py.File(os.path.join(results, fnames[i]))\n",
    "rid = f['rid'][()]\n",
    "print_h5_archive_and_datasets(f, scalars_only=True, quiet=True)"
   ]
  },
  {
   "cell_type": "code",
   "execution_count": 13,
   "id": "27a40fb6-d8f8-43f5-82e3-cb4d9e3fde7a",
   "metadata": {},
   "outputs": [
    {
     "name": "stdout",
     "output_type": "stream",
     "text": [
      "13241\n",
      "13242\n"
     ]
    }
   ],
   "source": [
    "# compare dictionaries of the datasets to see what has changed\n",
    "\n",
    "file1_dict = {}\n",
    "f = h5py.File(os.path.join(results, fnames[10]))\n",
    "rid1 = f['rid'][()]\n",
    "print(rid1)\n",
    "h5_archive_and_datasets_to_locals(f, parent_locals=file1_dict, quiet=True)\n",
    "\n",
    "file2_dict = {}\n",
    "f = h5py.File(os.path.join(results, fnames[11]))\n",
    "rid2 = f['rid'][()]\n",
    "print(rid2)\n",
    "h5_archive_and_datasets_to_locals(f, parent_locals=file2_dict, quiet=True)"
   ]
  },
  {
   "cell_type": "code",
   "execution_count": 14,
   "id": "c04c3f11-9358-45c8-8196-3f656c509ed7",
   "metadata": {},
   "outputs": [
    {
     "name": "stdout",
     "output_type": "stream",
     "text": [
      "p_AOM_A1=-11.902716225723351 in 13241, but p_AOM_A1=-13.217721643794444 in 13242\n",
      "p_AOM_A2=-12.125062864743779 in 13241, but p_AOM_A2=-13.526148219692695 in 13242\n",
      "p_AOM_A3=-12.962068374280493 in 13241, but p_AOM_A3=-14.10980022502363 in 13242\n",
      "p_AOM_A4=-6.291084132466005 in 13241, but p_AOM_A4=-8.254386182301179 in 13242\n",
      "p_AOM_A5=-14.33242748328377 in 13241, but p_AOM_A5=-14.70586304582537 in 13242\n",
      "p_AOM_A6=-9.968905634416757 in 13241, but p_AOM_A6=-5.769490242670492 in 13242\n",
      "p_FORT_default=-5.7008224615898095 in 13241, but p_FORT_default=-5.697429804462515 in 13242\n"
     ]
    }
   ],
   "source": [
    "for (key1,val1),(key2,val2) in zip(file1_dict.items(), file2_dict.items()):\n",
    "    assert key1 == key2, \"dicts are different, you should use nested for loops\"\n",
    "    try: # ignore non-scalar values\n",
    "        len(val1)\n",
    "        len(val2) \n",
    "    except Exception as e:\n",
    "        if val1 != val2:\n",
    "            print(f\"{key1}={val1} in {rid1}, but {key2}={val2} in {rid2}\")"
   ]
  },
  {
   "cell_type": "code",
   "execution_count": 15,
   "id": "b04b1e05-e6b2-4b5e-a89f-a66e9aa53900",
   "metadata": {},
   "outputs": [
    {
     "name": "stdout",
     "output_type": "stream",
     "text": [
      "13241\n",
      "13181\n"
     ]
    }
   ],
   "source": [
    "# compare dictionaries of the datasets to see what has changed\n",
    "\n",
    "file1_dict = {}\n",
    "f = h5py.File(os.path.join(results, fnames[10]))\n",
    "rid1 = f['rid'][()]\n",
    "print(rid1)\n",
    "h5_archive_and_datasets_to_locals(f, parent_locals=file1_dict, quiet=True)\n",
    "\n",
    "file2_dict = {}\n",
    "file2 = \"2024-05-08\\\\20\\\\000013181-GeneralVariableScan_single_photon_scan_over_dummy_variable.h5\"\n",
    "f = h5py.File(os.path.join(results, file2))\n",
    "rid2 = f['rid'][()]\n",
    "print(rid2)\n",
    "h5_archive_and_datasets_to_locals(f, parent_locals=file2_dict, quiet=True)"
   ]
  },
  {
   "cell_type": "code",
   "execution_count": 18,
   "id": "ccf07ffe-5e18-40d0-8df4-7123d1e36623",
   "metadata": {},
   "outputs": [
    {
     "name": "stdout",
     "output_type": "stream",
     "text": [
      "dummy_variable=0.5 in 13241, but dummy_variable=0.0 in 13181\n",
      "p_AOM_A1=-11.902716225723351 in 13241, but p_AOM_A1=-12.285569369127307 in 13181\n",
      "p_AOM_A2=-12.125062864743779 in 13241, but p_AOM_A2=-13.01637929612034 in 13181\n",
      "p_AOM_A3=-12.962068374280493 in 13241, but p_AOM_A3=-13.450642720664918 in 13181\n",
      "p_AOM_A4=-6.291084132466005 in 13241, but p_AOM_A4=-7.77324488718369 in 13181\n",
      "p_AOM_A5=-14.33242748328377 in 13241, but p_AOM_A5=-14.667750188838422 in 13181\n",
      "p_AOM_A6=-9.968905634416757 in 13241, but p_AOM_A6=-10.472810242601636 in 13181\n",
      "p_FORT_loading=1.15 in 13241, but p_FORT_loading=-4.096694222146602 in 13181\n",
      "set_point_FORT_MM=0.226 in 13241, but set_point_FORT_MM=0.3 in 13181\n",
      "iteration=0 in 13241, but iteration=1 in 13181\n",
      "n_measurements=100 in 13241, but n_measurements=1000 in 13181\n"
     ]
    }
   ],
   "source": [
    "for key1,val1 in file1_dict.items():\n",
    "    for key2,val2 in file2_dict.items():\n",
    "        if key1 == key2:\n",
    "            try: # ignore non-scalar values\n",
    "                len(val1)\n",
    "                len(val2)\n",
    "            except Exception as e:\n",
    "                if val1 != val2:\n",
    "                    print(f\"{key1}={val1} in {rid1}, but {key2}={val2} in {rid2}\")"
   ]
  },
  {
   "cell_type": "code",
   "execution_count": 21,
   "id": "94c81b40-5aab-4a03-8e5a-e52c7ddfd6b9",
   "metadata": {},
   "outputs": [
    {
     "name": "stdout",
     "output_type": "stream",
     "text": [
      "13723\n",
      "13724\n",
      "AX_volts_MOT=0.5066915400384276 in 13723, but AX_volts_MOT=0.48606727735849786 in 13724\n",
      "AY_volts_MOT=0.05368892024920639 in 13723, but AY_volts_MOT=0.012102075379339942 in 13724\n",
      "AZ_bottom_volts_MOT=7.729 in 13723, but AZ_bottom_volts_MOT=7.709554045051685 in 13724\n",
      "AZ_top_volts_MOT=8.031485609021951 in 13723, but AZ_top_volts_MOT=7.981485609021951 in 13724\n",
      "dummy_variable=checking atom loading in 13723, but dummy_variable=0.0 in 13724\n",
      "n_measurements=100 in 13723, but n_measurements=400 in 13724\n",
      "p_AOM_A1=-13.032236180046972 in 13723, but p_AOM_A1=-14.180721396602456 in 13724\n",
      "p_AOM_A2=-13.566239356662315 in 13723, but p_AOM_A2=-13.384848187103096 in 13724\n",
      "p_AOM_A3=-13.80532439949465 in 13723, but p_AOM_A3=-13.703462902990404 in 13724\n",
      "p_AOM_A4=-6.584681261090246 in 13723, but p_AOM_A4=-5.942463521319934 in 13724\n",
      "p_AOM_A5=-14.483773181355906 in 13723, but p_AOM_A5=-14.423528927353795 in 13724\n",
      "p_AOM_A6=-8.747480799876723 in 13723, but p_AOM_A6=-10.298785007738092 in 13724\n",
      "p_FORT_loading=-8.321653939725842 in 13723, but p_FORT_loading=-8.275455484220323 in 13724\n",
      "set_point_PD1_AOM_A1=0.061273673508375 in 13723, but set_point_PD1_AOM_A1=0.0490189388067 in 13724\n",
      "set_point_PD2_AOM_A2=0.0515322783018014 in 13723, but set_point_PD2_AOM_A2=0.04122582264144112 in 13724\n",
      "set_point_PD3_AOM_A3=0.06106899971280562 in 13723, but set_point_PD3_AOM_A3=0.048855199770244495 in 13724\n",
      "set_point_PD4_AOM_A4=0.08615484099063532 in 13723, but set_point_PD4_AOM_A4=0.06892387279250826 in 13724\n",
      "set_point_PD5_AOM_A5=0.04000000000000001 in 13723, but set_point_PD5_AOM_A5=0.03200000000000001 in 13724\n",
      "set_point_PD6_AOM_A6=0.0541516337303935 in 13723, but set_point_PD6_AOM_A6=0.0433213069843148 in 13724\n"
     ]
    }
   ],
   "source": [
    "# compare dictionaries of the datasets to see what has changed\n",
    "\n",
    "file1_dict = {}\n",
    "file1 = \"2024-05-14\\\\21\\\\000013723-GeneralVariableScan.h5\"\n",
    "f = h5py.File(os.path.join(results, file1))\n",
    "rid1 = f['rid'][()]\n",
    "print(rid1)\n",
    "h5_archive_and_datasets_to_locals(f, parent_locals=file1_dict, quiet=True)\n",
    "\n",
    "file2_dict = {}\n",
    "file2 = \"2024-05-14\\\\21\\\\000013724-AtomLoadingOptimizerMLOOP.h5\"\n",
    "f = h5py.File(os.path.join(results, file2))\n",
    "rid2 = f['rid'][()]\n",
    "print(rid2)\n",
    "h5_archive_and_datasets_to_locals(f, parent_locals=file2_dict, quiet=True)\n",
    "\n",
    "for key1,val1 in file1_dict.items():\n",
    "    for key2,val2 in file2_dict.items():\n",
    "        if key1 == key2:\n",
    "            try: # ignore non-scalar values\n",
    "                len(val1)\n",
    "                len(val2)\n",
    "            except Exception as e:\n",
    "                if val1 != val2:\n",
    "                    print(f\"{key1}={val1} in {rid1}, but {key2}={val2} in {rid2}\")"
   ]
  },
  {
   "cell_type": "code",
   "execution_count": 23,
   "id": "82347314-6551-415d-9b66-edf3bec9544f",
   "metadata": {},
   "outputs": [
    {
     "name": "stdout",
     "output_type": "stream",
     "text": [
      "13756\n",
      "13757\n",
      "p_AOM_A1=-14.853446691886045 in 13756, but p_AOM_A1=-13.468558970389335 in 13757\n",
      "p_AOM_A2=-15.241859551582477 in 13756, but p_AOM_A2=-13.734695627627564 in 13757\n",
      "p_AOM_A3=-17.007025355688548 in 13756, but p_AOM_A3=-14.368899994169162 in 13757\n",
      "p_AOM_A4=-7.188554571776158 in 13756, but p_AOM_A4=-9.00281397345401 in 13757\n",
      "p_AOM_A5=-16.807708812991756 in 13756, but p_AOM_A5=-15.46530085735327 in 13757\n",
      "p_AOM_A6=-12.264179274923555 in 13756, but p_AOM_A6=-10.946480235218337 in 13757\n",
      "p_FORT_loading=-8.268503427426129 in 13756, but p_FORT_loading=-5.78150459545379 in 13757\n",
      "set_point_PD6_AOM_A6=0.03251984511223413 in 13756, but set_point_PD6_AOM_A6=0.034141356749540316 in 13757\n",
      "n_measurements=400 in 13756, but n_measurements=1000 in 13757\n"
     ]
    }
   ],
   "source": [
    "# compare dictionaries of the datasets to see what has changed\n",
    "\n",
    "file1_dict = {}\n",
    "file1 = \"2024-05-15\\\\13\\\\000013756-AtomLoadingOptimizerMLOOP.h5\"\n",
    "f = h5py.File(os.path.join(results, file1))\n",
    "rid1 = f['rid'][()]\n",
    "print(rid1)\n",
    "h5_archive_and_datasets_to_locals(f, parent_locals=file1_dict, quiet=True)\n",
    "\n",
    "file2_dict = {}\n",
    "file2 = \"2024-05-15\\\\14\\\\000013757-ExperimentVariables.h5\"\n",
    "f = h5py.File(os.path.join(results, file2))\n",
    "rid2 = f['rid'][()]\n",
    "print(rid2)\n",
    "h5_archive_and_datasets_to_locals(f, parent_locals=file2_dict, quiet=True)\n",
    "\n",
    "for key1,val1 in file1_dict.items():\n",
    "    for key2,val2 in file2_dict.items():\n",
    "        if key1 == key2:\n",
    "            try: # ignore non-scalar values\n",
    "                len(val1)\n",
    "                len(val2)\n",
    "            except Exception as e:\n",
    "                if val1 != val2:\n",
    "                    print(f\"{key1}={val1} in {rid1}, but {key2}={val2} in {rid2}\")"
   ]
  },
  {
   "cell_type": "code",
   "execution_count": 33,
   "id": "089f255f-de3f-496f-9107-abe299ec3e74",
   "metadata": {},
   "outputs": [
    {
     "name": "stdout",
     "output_type": "stream",
     "text": [
      "13181\n",
      "13835\n",
      "this week/last week\n",
      "setpoint AOM A1 new/old 0.5458126588387556\n",
      "setpoint AOM A2 new/old 0.6503251745951265\n",
      "setpoint AOM A3 new/old 0.5779679429466442\n",
      "setpoint AOM A4 new/old 0.7789740055657132\n",
      "setpoint AOM A5 new/old 0.5397914885836003\n",
      "setpoint AOM A6 new/old 0.38790658474098716\n",
      "\n",
      "this week/last week\n",
      "1.0166650996959774\n",
      "1.0042231684130267\n",
      "1.0321648470308251\n",
      "-0.16996705144514287\n"
     ]
    }
   ],
   "source": [
    "# compare MOT setpoints last week to this week after getting the atom loading back\n",
    "\n",
    "file1_dict = {}\n",
    "# file1 = \"2024-05-15\\\\13\\\\000013756-AtomLoadingOptimizerMLOOP.h5\"\n",
    "file1 = \"2024-05-08\\\\20\\\\000013181-GeneralVariableScan.h5\"\n",
    "f = h5py.File(os.path.join(results, file1))\n",
    "rid1 = f['rid'][()]\n",
    "print(rid1)\n",
    "h5_archive_and_datasets_to_locals(f, parent_locals=file1_dict, quiet=True)\n",
    "\n",
    "file2_dict = {}\n",
    "# file2 = \"2024-05-15\\\\14\\\\000013757-ExperimentVariables.h5\"\n",
    "file2 = \"2024-05-17\\\\09\\\\000013835-ExperimentVariables.h5\"\n",
    "f = h5py.File(os.path.join(results, file2))\n",
    "rid2 = f['rid'][()]\n",
    "print(rid2)\n",
    "h5_archive_and_datasets_to_locals(f, parent_locals=file2_dict, quiet=True)\n",
    "\n",
    "print(\"this week/last week\")\n",
    "for i in range(1,7):\n",
    "    new_over_old = file2_dict[f\"set_point_PD{i}_AOM_A{i}\"]/file1_dict[f\"set_point_PD{i}_AOM_A{i}\"]\n",
    "    print(f\"setpoint AOM A{i} new/old\", new_over_old)\n",
    "\n",
    "print(\"\\nthis week/last week\")\n",
    "print(file2_dict[\"AZ_bottom_volts_MOT\"]/file1_dict[\"AZ_bottom_volts_MOT\"])\n",
    "print(file2_dict[\"AZ_top_volts_MOT\"]/file1_dict[\"AZ_top_volts_MOT\"])\n",
    "print(file2_dict[\"AX_volts_MOT\"]/file1_dict[\"AX_volts_MOT\"])\n",
    "print(file2_dict[\"AY_volts_MOT\"]/file1_dict[\"AY_volts_MOT\"])"
   ]
  },
  {
   "cell_type": "code",
   "execution_count": 31,
   "id": "cc2319ca-cb75-4644-a3c0-cf8736649a4e",
   "metadata": {},
   "outputs": [
    {
     "data": {
      "text/plain": [
       "0.04968000000000001"
      ]
     },
     "execution_count": 31,
     "metadata": {},
     "output_type": "execute_result"
    }
   ],
   "source": [
    "0.1*0.23*2.16"
   ]
  },
  {
   "cell_type": "code",
   "execution_count": 29,
   "id": "f32ddcc0-94f3-462e-bc65-c2703124bca5",
   "metadata": {},
   "outputs": [
    {
     "name": "stdout",
     "output_type": "stream",
     "text": [
      "old setpoint AOM A1 0.08\n",
      "old setpoint AOM A2 0.062\n",
      "old setpoint AOM A3 0.072\n",
      "old setpoint AOM A4 0.099\n",
      "old setpoint AOM A5 0.04706573936146263\n",
      "old setpoint AOM A6 0.078\n"
     ]
    }
   ],
   "source": [
    "for i in range(1,7):\n",
    "    new_over_old = file2_dict[f\"set_point_PD{i}_AOM_A{i}\"]\n",
    "    print(f\"old setpoint AOM A{i}\", file1_dict[f\"set_point_PD{i}_AOM_A{i}\"])"
   ]
  }
 ],
 "metadata": {
  "kernelspec": {
   "display_name": "Python 3 (ipykernel)",
   "language": "python",
   "name": "python3"
  },
  "language_info": {
   "codemirror_mode": {
    "name": "ipython",
    "version": 3
   },
   "file_extension": ".py",
   "mimetype": "text/x-python",
   "name": "python",
   "nbconvert_exporter": "python",
   "pygments_lexer": "ipython3",
   "version": "3.9.5"
  }
 },
 "nbformat": 4,
 "nbformat_minor": 5
}
