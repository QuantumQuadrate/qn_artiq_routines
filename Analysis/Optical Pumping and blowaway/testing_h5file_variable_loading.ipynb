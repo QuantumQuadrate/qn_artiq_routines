{
 "cells": [
  {
   "cell_type": "code",
   "execution_count": 1,
   "id": "4a9cebda-2725-4998-9388-9f7f53a297d9",
   "metadata": {},
   "outputs": [],
   "source": [
    "import h5py\n",
    "import sys\n",
    "\n",
    "sys.path.append(\"..\\\\\")\n",
    "from h5_data_utilities import * # helper functions for dealing with h5 files"
   ]
  },
  {
   "cell_type": "code",
   "execution_count": 2,
   "id": "267471e1-3aea-4c81-8dc5-4d3d5c05ce2f",
   "metadata": {},
   "outputs": [
    {
     "name": "stdout",
     "output_type": "stream",
     "text": [
      "found 9 files\n",
      "file 0 (C:\\Networking Experiment\\artiq codes\\artiq-master\\results\\2024-04-17\\10\\000012060-GeneralVariableScan_microwave_Rabi.h5) scanned over p_FORT_blowaway\n",
      "file 1 (C:\\Networking Experiment\\artiq codes\\artiq-master\\results\\2024-04-17\\10\\000012061-GeneralVariableScan_microwave_Rabi.h5) scanned over t_blowaway\n",
      "file 2 (C:\\Networking Experiment\\artiq codes\\artiq-master\\results\\2024-04-17\\10\\000012063-GeneralVariableScan_microwave_Rabi.h5) scanned over p_FORT_blowaway\n",
      "file 3 (C:\\Networking Experiment\\artiq codes\\artiq-master\\results\\2024-04-17\\11\\000012066-GeneralVariableScan_microwave_Rabi.h5) scanned over t_blowaway\n",
      "file 4 (C:\\Networking Experiment\\artiq codes\\artiq-master\\results\\2024-04-17\\11\\000012067-GeneralVariableScan_microwave_Rabi.h5) scanned over t_blowaway\n",
      "file 5 (C:\\Networking Experiment\\artiq codes\\artiq-master\\results\\2024-04-17\\11\\000012070-GeneralVariableScan_microwave_Rabi.h5) scanned over p_FORT_blowaway\n",
      "file 6 (C:\\Networking Experiment\\artiq codes\\artiq-master\\results\\2024-04-17\\11\\000012075-GeneralVariableScan_microwave_Rabi.h5) scanned over p_AOM_A6_blowaway\n",
      "file 7 (C:\\Networking Experiment\\artiq codes\\artiq-master\\results\\2024-04-17\\13\\000012079-GeneralVariableScan_microwave_Rabi.h5) scanned over f_cooling_DP_blowaway\n",
      "file 8 (C:\\Networking Experiment\\artiq codes\\artiq-master\\results\\2024-04-17\\13\\000012081-GeneralVariableScan_microwave_Rabi.h5) scanned over p_AOM_A6_blowaway\n"
     ]
    }
   ],
   "source": [
    "fnames = get_files_by_criteria(date_filters=[\"2024-04-17\"], # only find files from these date directories\n",
    "                               name_filters=[\"microwave_Rabi\", \"GeneralVariableScan\"], # only find files containing all these strings\n",
    "                               condition=lambda filename: True, # use this to filter by experiment parameters, like this: lambda filename: np.bool_(h5py.File(filename)['datasets']['set_current_coil_volts_at_finish'])\n",
    "                               start_dir=results,\n",
    "                               include_path=True, # only return the name of the file, not the full path\n",
    "                               print_filenames=True\n",
    ")\n",
    "print(f\"found {len(fnames)} files\")\n",
    "for i,f in enumerate(fnames):\n",
    "    ds = h5py.File(os.path.join(results, f))['datasets']\n",
    "    try:\n",
    "        scan_str = str_from_h5(ds['scan_variable1_name'])\n",
    "        if str_from_h5(ds['scan_variable2_name']) != '':\n",
    "            scan_str += \", \" +str_from_h5(ds['scan_variable2_name'])\n",
    "        # print(f\"file {i} ({f[72:]}) scanned over \"+scan_str)\n",
    "        print(f\"file {i} ({f}) scanned over \"+scan_str)\n",
    "    except:\n",
    "        print(f\"oops... something wrong with {f}\")"
   ]
  },
  {
   "cell_type": "code",
   "execution_count": 3,
   "id": "0068feec-dcd4-44f8-bc7a-dae8486e95c4",
   "metadata": {},
   "outputs": [
    {
     "name": "stdout",
     "output_type": "stream",
     "text": [
      "<KeysViewHDF5 ['FORT_monitor', 'MOT1_monitor', 'MOT2_monitor', 'MOT3_monitor', 'MOT4_monitor', 'MOT5_monitor', 'MOT6_monitor', 'control_experiment', 'experiment_function', 'iteration', 'n_measurements', 'p_AOM_A1', 'p_AOM_A2', 'p_AOM_A3', 'p_AOM_A4', 'p_AOM_A5', 'p_AOM_A6', 'p_FORT_loading', 'photocount_bins', 'photocounts', 'photocounts2', 'photocounts2_current_iteration', 'photocounts_current_iteration', 'photocounts_per_s', 'scan_sequence1', 'scan_sequence2', 'scan_variable1_name', 'scan_variable2_name', 'scan_variables', 'test_dataset']>\n"
     ]
    }
   ],
   "source": [
    "fname = fnames[6]\n",
    "f = h5py.File(os.path.join(results, fname))\n",
    "\n",
    "print(f['datasets'].keys())\n",
    "# print(f['archive'].keys())"
   ]
  },
  {
   "cell_type": "code",
   "execution_count": 4,
   "id": "1d1b6b2f-65b9-4165-b3a1-ca55492a338e",
   "metadata": {},
   "outputs": [
    {
     "name": "stdout",
     "output_type": "stream",
     "text": [
      "oops in: archive [-1.5 - i*(3.3 - 1.5) () object np.linspace(-0.12,0.12,15)\n",
      "oops in: archive [0.025 - k*(0.9 + 0.025) () object np.linspace(-0.12,0.12,15)\n",
      "oops in: archive [0.15 - j*(0.8 + 0.15) () object np.linspace(-0.12,0.12,15)\n",
      "oops in: archive [0.6 - l*(0.6 - 1) () object np.linspace(-0.12,0.12,15)\n"
     ]
    }
   ],
   "source": [
    "h5_archive_and_datasets_to_locals(f, parent_locals=locals())"
   ]
  },
  {
   "cell_type": "code",
   "execution_count": 5,
   "id": "b5a479cf-4ae7-429a-bec3-1b5f45e4fb48",
   "metadata": {},
   "outputs": [
    {
     "data": {
      "text/plain": [
       "(112000000.0, 2.9999999999999997e-05)"
      ]
     },
     "execution_count": 5,
     "metadata": {},
     "output_type": "execute_result"
    }
   ],
   "source": [
    "f_cooling_DP_MOT, t_blowaway"
   ]
  },
  {
   "cell_type": "code",
   "execution_count": 6,
   "id": "cca86750-d9af-4800-aa92-f944cdc7ac3f",
   "metadata": {},
   "outputs": [
    {
     "data": {
      "text/plain": [
       "''"
      ]
     },
     "execution_count": 6,
     "metadata": {},
     "output_type": "execute_result"
    }
   ],
   "source": [
    "scan_variable2_name"
   ]
  },
  {
   "cell_type": "code",
   "execution_count": 11,
   "id": "26516cbe-64cf-4cfc-9799-8441bb964a88",
   "metadata": {},
   "outputs": [
    {
     "data": {
      "text/plain": [
       "(array([  1.,   0.,  47., 359.,  41.,   0.,   3.,   9.,  31.,  10.]),\n",
       " array([   0. ,  162.8,  325.6,  488.4,  651.2,  814. ,  976.8, 1139.6,\n",
       "        1302.4, 1465.2, 1628. ]),\n",
       " <BarContainer object of 10 artists>)"
      ]
     },
     "execution_count": 11,
     "metadata": {},
     "output_type": "execute_result"
    },
    {
     "data": {
      "image/png": "[encoded data removed]",
      "text/plain": [
       "<Figure size 640x480 with 1 Axes>"
      ]
     },
     "metadata": {},
     "output_type": "display_data"
    }
   ],
   "source": [
    "plt.hist(photocounts)\n",
    "plt.hist(photocounts2)"
   ]
  },
  {
   "cell_type": "code",
   "execution_count": 28,
   "id": "502d3ce2-84fe-4fdd-80d5-14f91c44442a",
   "metadata": {},
   "outputs": [
    {
     "data": {
      "text/plain": [
       "<h5py._hl.dataset.AstypeWrapper at 0x17e2c0c5ac0>"
      ]
     },
     "execution_count": 28,
     "metadata": {},
     "output_type": "execute_result"
    }
   ],
   "source": [
    "# dir(f['archive'][key])\n",
    "x=f['archive'][key].astype(f['archive'][key].dtype)"
   ]
  },
  {
   "cell_type": "code",
   "execution_count": 36,
   "id": "da1000dd-3caf-4fda-89df-bd120abeb88e",
   "metadata": {},
   "outputs": [],
   "source": [
    "x=eval(f['archive']['Vx_array'][()])\n",
    "x=eval(f['archive']['fast_feedback_dds_list'][()])"
   ]
  },
  {
   "cell_type": "code",
   "execution_count": 37,
   "id": "5b0693be-e998-463a-ae9f-ae18e14eb2c7",
   "metadata": {},
   "outputs": [
    {
     "data": {
      "text/plain": [
       "(8, str)"
      ]
     },
     "execution_count": 37,
     "metadata": {},
     "output_type": "execute_result"
    }
   ],
   "source": [
    "len(x), type(x[0])"
   ]
  },
  {
   "cell_type": "code",
   "execution_count": 78,
   "id": "fe9759ac-1552-4c48-bfab-40fff7c67b91",
   "metadata": {},
   "outputs": [
    {
     "data": {
      "text/plain": [
       "True"
      ]
     },
     "execution_count": 78,
     "metadata": {},
     "output_type": "execute_result"
    }
   ],
   "source": [
    "type(f['datasets']['experiment_function'][()])==bytes"
   ]
  },
  {
   "cell_type": "code",
   "execution_count": 71,
   "id": "29a75c75-0eb8-4493-8bf0-e2c3bd0299a6",
   "metadata": {},
   "outputs": [
    {
     "data": {
      "text/plain": [
       "'microwave_Rabi_experiment'"
      ]
     },
     "execution_count": 71,
     "metadata": {},
     "output_type": "execute_result"
    }
   ],
   "source": [
    "str_from_h5(f['datasets']['experiment_function'])"
   ]
  },
  {
   "cell_type": "code",
   "execution_count": 73,
   "id": "ae9f1776-3836-4de9-aec6-f722d3d09114",
   "metadata": {},
   "outputs": [
    {
     "ename": "SyntaxError",
     "evalue": "invalid syntax (<string>, line 1)",
     "output_type": "error",
     "traceback": [
      "Traceback \u001b[1;36m(most recent call last)\u001b[0m:\n",
      "\u001b[0m  File \u001b[0;32m~\\.virtualenvs\\Networking_Exp_Data-0oRq_J3c\\lib\\site-packages\\IPython\\core\\interactiveshell.py:3550\u001b[0m in \u001b[0;35mrun_code\u001b[0m\n    exec(code_obj, self.user_global_ns, self.user_ns)\u001b[0m\n",
      "\u001b[0m  Cell \u001b[0;32mIn[73], line 1\u001b[0m\n    eval_str_from_h5(f['datasets']['scan_sequence1'])\u001b[0m\n",
      "\u001b[1;36m  File \u001b[1;32mD:\\Networking Exp Data\\Optical pumping and blowaway\\..\\h5_data_utilities.py:20\u001b[1;36m in \u001b[1;35meval_str_from_h5\u001b[1;36m\n\u001b[1;33m    return eval(str(np.array(h5_str))[2:-1])\u001b[1;36m\n",
      "\u001b[1;36m  File \u001b[1;32m<string>:1\u001b[1;36m\u001b[0m\n\u001b[1;33m    .    1.125 1.25  1.375 1.5\u001b[0m\n\u001b[1;37m    ^\u001b[0m\n\u001b[1;31mSyntaxError\u001b[0m\u001b[1;31m:\u001b[0m invalid syntax\n"
     ]
    }
   ],
   "source": [
    "eval_str_from_h5(f['datasets']['scan_sequence1'])"
   ]
  },
  {
   "cell_type": "code",
   "execution_count": 74,
   "id": "ccfd3fab-ab8c-402f-bae4-5e7c9891149d",
   "metadata": {},
   "outputs": [
    {
     "data": {
      "text/plain": [
       "array([1.   , 1.125, 1.25 , 1.375, 1.5  ])"
      ]
     },
     "execution_count": 74,
     "metadata": {},
     "output_type": "execute_result"
    }
   ],
   "source": [
    "np.array(f['datasets']['scan_sequence1'])"
   ]
  },
  {
   "cell_type": "code",
   "execution_count": 90,
   "id": "a7ea58df-9cd4-4b4f-ad31-3f7028b7a0cf",
   "metadata": {},
   "outputs": [
    {
     "data": {
      "text/plain": [
       "'p_AOM_A6_blowaway'"
      ]
     },
     "execution_count": 90,
     "metadata": {},
     "output_type": "execute_result"
    }
   ],
   "source": [
    "str_from_h5(f['datasets']['scan_variable1_name'])"
   ]
  },
  {
   "cell_type": "code",
   "execution_count": 91,
   "id": "957bcccb-ab10-4f8f-8a86-8905304bbe59",
   "metadata": {},
   "outputs": [
    {
     "ename": "TypeError",
     "evalue": "eval() arg 1 must be a string, bytes or code object",
     "output_type": "error",
     "traceback": [
      "\u001b[1;31m---------------------------------------------------------------------------\u001b[0m",
      "\u001b[1;31mTypeError\u001b[0m                                 Traceback (most recent call last)",
      "Cell \u001b[1;32mIn[91], line 1\u001b[0m\n\u001b[1;32m----> 1\u001b[0m \u001b[38;5;28;43meval\u001b[39;49m\u001b[43m(\u001b[49m\u001b[43mf\u001b[49m\u001b[43m[\u001b[49m\u001b[38;5;124;43m'\u001b[39;49m\u001b[38;5;124;43mdatasets\u001b[39;49m\u001b[38;5;124;43m'\u001b[39;49m\u001b[43m]\u001b[49m\u001b[43m[\u001b[49m\u001b[38;5;124;43m'\u001b[39;49m\u001b[38;5;124;43mscan_variable1_name\u001b[39;49m\u001b[38;5;124;43m'\u001b[39;49m\u001b[43m]\u001b[49m\u001b[43m)\u001b[49m\n",
      "\u001b[1;31mTypeError\u001b[0m: eval() arg 1 must be a string, bytes or code object"
     ]
    }
   ],
   "source": [
    "eval(f['datasets']['scan_variable1_name'])"
   ]
  },
  {
   "cell_type": "code",
   "execution_count": 93,
   "id": "fc3f26d2-c029-4066-818b-9d73e0fa169a",
   "metadata": {},
   "outputs": [
    {
     "data": {
      "text/plain": [
       "bytes"
      ]
     },
     "execution_count": 93,
     "metadata": {},
     "output_type": "execute_result"
    }
   ],
   "source": [
    "type(f['datasets']['scan_variable1_name'][()])"
   ]
  },
  {
   "cell_type": "code",
   "execution_count": 100,
   "id": "e0643364-03e3-49f4-a4a2-1a805f5323b5",
   "metadata": {},
   "outputs": [
    {
     "data": {
      "text/plain": [
       "(bytes, True)"
      ]
     },
     "execution_count": 100,
     "metadata": {},
     "output_type": "execute_result"
    }
   ],
   "source": [
    "type(f['datasets']['experiment_function'][()]), f['datasets']['experiment_function'].dtype == object"
   ]
  },
  {
   "cell_type": "code",
   "execution_count": null,
   "id": "534cd826-7ba9-47ae-b2e4-90961a73755b",
   "metadata": {},
   "outputs": [],
   "source": [
    "for key in f['dataset'].keys():\n",
    "    try:\n",
    "        shape = f['dataset'][key].shape\n",
    "        dtype = f['dataset'][key].dtype\n",
    "        if shape == (): # scalar\n",
    "            if dtype == object:\n",
    "                value = eval(f['dataset'][key][()])\n",
    "            else:\n",
    "                value = f['dataset'][key][()]\n",
    "            # print(key, shape, dtype, value)\n",
    "            locals().update({key: value})\n",
    "    \n",
    "    except:\n",
    "        print(\"oops\", key, shape, dtype, value)"
   ]
  },
  {
   "cell_type": "code",
   "execution_count": 105,
   "id": "8400a5a1-e7d4-4839-88e1-13a585f0f7db",
   "metadata": {},
   "outputs": [
    {
     "name": "stdout",
     "output_type": "stream",
     "text": [
      "oops in: archive [-1.5 - i*(3.3 - 1.5) () object np.linspace(-0.12,0.12,15)\n",
      "oops in: archive [0.025 - k*(0.9 + 0.025) () object np.linspace(-0.12,0.12,15)\n",
      "oops in: archive [0.15 - j*(0.8 + 0.15) () object np.linspace(-0.12,0.12,15)\n",
      "oops in: archive [0.6 - l*(0.6 - 1) () object np.linspace(-0.12,0.12,15)\n"
     ]
    }
   ],
   "source": [
    "for data_level in ['archive','datasets']:\n",
    "    for key in f[data_level].keys():\n",
    "        try:\n",
    "            shape = f[data_level][key].shape\n",
    "            dtype = f[data_level][key].dtype\n",
    "            raw_value = f[data_level][key][()]\n",
    "            if shape == (): # scalar\n",
    "                if dtype == object:\n",
    "                    if type(raw_value) == bytes:\n",
    "                        \n",
    "                        try:\n",
    "                            value = str_from_h5(f[data_level][key])\n",
    "                        except:\n",
    "                            raise\n",
    "                    else:\n",
    "                        try:\n",
    "                            eval(f[data_level][key][()])\n",
    "                        except:\n",
    "                            raise\n",
    "                else:\n",
    "                    value = f[data_level][key][()]\n",
    "                # print(key, shape, dtype, value)\n",
    "                locals().update({key: value})\n",
    "            else:\n",
    "                # print(key, shape, dtype, value)\n",
    "                value = f[data_level][key][:]\n",
    "                locals().update({key: value})\n",
    "        except:\n",
    "            print(\"oops in:\",data_level, key, shape, dtype, value)"
   ]
  },
  {
   "cell_type": "code",
   "execution_count": 84,
   "id": "1c81b215-d2c8-4e9f-be02-4614e71ef6d2",
   "metadata": {},
   "outputs": [
    {
     "data": {
      "text/plain": [
       "0.9"
      ]
     },
     "execution_count": 84,
     "metadata": {},
     "output_type": "execute_result"
    }
   ],
   "source": [
    "scan_variable1_name"
   ]
  },
  {
   "cell_type": "code",
   "execution_count": null,
   "id": "3147b900-0d58-4f4e-a4c2-23e6e94675f3",
   "metadata": {},
   "outputs": [],
   "source": [
    "for key in f['archive'].keys():\n",
    "    try:\n",
    "        shape = f['archive'][key].shape\n",
    "        dtype = f['archive'][key].dtype\n",
    "        if shape == (): # scalar\n",
    "            if dtype == object:\n",
    "                value = eval(f['archive'][key][()])\n",
    "            else:\n",
    "                value = f['archive'][key][()]\n",
    "            # print(key, shape, dtype, value)\n",
    "            locals().update({key: value})\n",
    "    \n",
    "    except:\n",
    "        passs"
   ]
  },
  {
   "cell_type": "code",
   "execution_count": 42,
   "id": "ea16c3c6-1c7e-413c-9a78-4ac04c0ff61a",
   "metadata": {},
   "outputs": [
    {
     "data": {
      "text/plain": [
       "78530000.0"
      ]
     },
     "execution_count": 42,
     "metadata": {},
     "output_type": "execute_result"
    }
   ],
   "source": [
    "AOM_A6_freq"
   ]
  },
  {
   "cell_type": "code",
   "execution_count": null,
   "id": "a1faa830-8ec7-4831-a140-9ace5a390980",
   "metadata": {},
   "outputs": [],
   "source": [
    "# def h5_file_add_variables_to_locals(f):\n",
    "#     \"\"\"\n",
    "#     get select ExperimentVariables from the h5 file f and add them to locals() where this function is called\n",
    "\n",
    "#     locals() is the dictionary that python uses to store all local variables in the current scope. so whatever\n",
    "#     this function adds to locals() will be available for use where you call it.\n",
    "#     \"\"\"\n",
    "    \n",
    "# experiment_name = str_from_h5(f['datasets']['experiment_function'])\n",
    "# print(\"experiment:\",experiment_name)\n",
    "\n",
    "# n_measurements = np.uint(f['datasets']['n_measurements'])\n",
    "# t_SPCM_first_shot = np.float64(f['archive']['t_SPCM_first_shot'])\n",
    "# t_SPCM_second_shot = np.float64(f['archive']['t_SPCM_second_shot'])\n",
    "# t_FORT_drop = np.float64(f['archive']['t_FORT_drop'])\n",
    "\n",
    "# single_atom_counts_per_s = np.uint(f['archive']['single_atom_counts_per_s'])\n",
    "\n",
    "# scan_variable1 = str_from_h5(f['datasets']['scan_variable1_name'])\n",
    "# # scan_variable1_unit = str_from_h5(f['datasets']['scan_sequence1'])[] # todo\n",
    "\n",
    "# try:\n",
    "#     scan_sequence1 = np.array(f['datasets']['scan_sequence1'])\n",
    "# except:\n",
    "#     scan_sequence1 = eval_str_from_h5(f['datasets']['scan_sequence1'])\n",
    "\n",
    "# scan_variable2 = str_from_h5(f['datasets']['scan_variable2_name'])\n",
    "# if scan_variable2 != '':\n",
    "#     try:\n",
    "#         scan_sequence2 = eval_str_from_h5(f['datasets']['scan_sequence2'])\n",
    "#     except:\n",
    "#         scan_sequence2 = np.array(f['datasets']['scan_sequence2'])\n",
    "#     scan_is_2D = True\n",
    "# else:\n",
    "#     scan_sequence2 = np.zeros(1)\n",
    "#     scan_is_2D = False\n",
    "\n",
    "# print(scan_variable1,scan_sequence1)\n",
    "# print(scan_variable2,scan_sequence2)\n",
    "\n",
    "# iterations = len(scan_sequence1)*len(scan_sequence2)\n",
    "\n",
    "# counts_shot1 = np.array(f['datasets']['photocounts'])[1:]\n",
    "# counts_shot2 = np.array(f['datasets']['photocounts2'])[1:]\n",
    "\n",
    "# locals().update({'n_measurements':n_measurements})\n",
    "\n",
    "# # print some warnings\n",
    "# if t_FORT_drop > 0:\n",
    "#     print(f\"ATTENTION: retention may be low because of {t_FORT_drop/us} us FORT drop\")"
   ]
  },
  {
   "cell_type": "code",
   "execution_count": 3,
   "id": "b49b2150-4311-40bb-ba84-771319e4aa9c",
   "metadata": {},
   "outputs": [],
   "source": [
    "locals().update({'testing':42})"
   ]
  },
  {
   "cell_type": "code",
   "execution_count": 4,
   "id": "00981290-a42a-431f-803b-4ff3f0066bbf",
   "metadata": {},
   "outputs": [
    {
     "data": {
      "text/plain": [
       "{'__name__': '__main__',\n",
       " '__doc__': 'Automatically created module for IPython interactive environment',\n",
       " '__package__': None,\n",
       " '__loader__': None,\n",
       " '__spec__': None,\n",
       " '__builtin__': <module 'builtins' (built-in)>,\n",
       " '__builtins__': <module 'builtins' (built-in)>,\n",
       " '_ih': ['',\n",
       "  'locals()',\n",
       "  \"locals.update({'testing':42})\",\n",
       "  \"locals().update({'testing':42})\",\n",
       "  'locals()'],\n",
       " '_oh': {1: {...}},\n",
       " '_dh': [WindowsPath('D:/Networking Exp Data/Optical pumping and blowaway')],\n",
       " 'In': ['',\n",
       "  'locals()',\n",
       "  \"locals.update({'testing':42})\",\n",
       "  \"locals().update({'testing':42})\",\n",
       "  'locals()'],\n",
       " 'Out': {1: {...}},\n",
       " 'get_ipython': <bound method InteractiveShell.get_ipython of <ipykernel.zmqshell.ZMQInteractiveShell object at 0x0000017E044F7910>>,\n",
       " 'exit': <IPython.core.autocall.ZMQExitAutocall at 0x17e0450d640>,\n",
       " 'quit': <IPython.core.autocall.ZMQExitAutocall at 0x17e0450d640>,\n",
       " 'open': <function io.open(file, mode='r', buffering=-1, encoding=None, errors=None, newline=None, closefd=True, opener=None)>,\n",
       " '_': {...},\n",
       " '__': '',\n",
       " '___': '',\n",
       " '__session__': 'D:\\\\Networking Exp Data\\\\Optical pumping and blowaway\\\\Untitled.ipynb',\n",
       " '_i': \"locals().update({'testing':42})\",\n",
       " '_ii': \"locals.update({'testing':42})\",\n",
       " '_iii': 'locals()',\n",
       " '_i1': 'locals()',\n",
       " '_1': {...},\n",
       " '_i2': \"locals.update({'testing':42})\",\n",
       " '_i3': \"locals().update({'testing':42})\",\n",
       " 'testing': 42,\n",
       " '_i4': 'locals()'}"
      ]
     },
     "execution_count": 4,
     "metadata": {},
     "output_type": "execute_result"
    }
   ],
   "source": [
    "locals()"
   ]
  },
  {
   "cell_type": "code",
   "execution_count": 5,
   "id": "ab811346-651f-4cdb-b7d1-c0f97eac3535",
   "metadata": {},
   "outputs": [
    {
     "data": {
      "text/plain": [
       "42"
      ]
     },
     "execution_count": 5,
     "metadata": {},
     "output_type": "execute_result"
    }
   ],
   "source": [
    "testing"
   ]
  },
  {
   "cell_type": "code",
   "execution_count": null,
   "id": "57bd4b94-ce42-41ff-a58c-f73a5931e92d",
   "metadata": {},
   "outputs": [],
   "source": []
  }
 ],
 "metadata": {
  "kernelspec": {
   "display_name": "Python 3 (ipykernel)",
   "language": "python",
   "name": "python3"
  },
  "language_info": {
   "codemirror_mode": {
    "name": "ipython",
    "version": 3
   },
   "file_extension": ".py",
   "mimetype": "text/x-python",
   "name": "python",
   "nbconvert_exporter": "python",
   "pygments_lexer": "ipython3",
   "version": "3.9.5"
  }
 },
 "nbformat": 4,
 "nbformat_minor": 5
}
